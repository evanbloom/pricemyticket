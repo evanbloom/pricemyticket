{
 "metadata": {
  "name": "",
  "signature": "sha256:8a6adcf3001f57631a554b5e639f726e90197b3dba09580661f6b9e520049c32"
 },
 "nbformat": 3,
 "nbformat_minor": 0,
 "worksheets": []
}
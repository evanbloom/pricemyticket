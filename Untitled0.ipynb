{
 "metadata": {
  "name": "",
  "signature": "sha256:f23047f5648cc74f85e088f6c08abc4fe4d15eb78ce02f9f020dd28796f54def"
 },
 "nbformat": 3,
 "nbformat_minor": 0,
 "worksheets": [
  {
   "cells": [
    {
     "cell_type": "code",
     "collapsed": false,
     "input": [
      "def check_paren (aStr):\n",
      "    left='({['\n",
      "    pairs =[('(',')'),('[',']'), ('{','}')]\n",
      "    stack=[]\n",
      "    for i in aStr:\n",
      "        if i in left:\n",
      "            stack.append(i)\n",
      "        elif len(stack)==0:\n",
      "            return False\n",
      "        else:\n",
      "            for j in pairs:\n",
      "                if i in j:\n",
      "                    my_open= j[0]\n",
      "            if my_open == stack[-1]:\n",
      "                stack= stack[:-1]\n",
      "            else:\n",
      "                return False\n",
      "    return True\n"
     ],
     "language": "python",
     "metadata": {},
     "outputs": [],
     "prompt_number": 19
    },
    {
     "cell_type": "code",
     "collapsed": false,
     "input": [
      "check_paren(\"[]()[()]{}[(([]()({})))][]{([{()[]{}}]){}}\")"
     ],
     "language": "python",
     "metadata": {},
     "outputs": [
      {
       "metadata": {},
       "output_type": "pyout",
       "prompt_number": 20,
       "text": [
        "False"
       ]
      }
     ],
     "prompt_number": 20
    },
    {
     "cell_type": "code",
     "collapsed": false,
     "input": [
      "\n",
      "def n_paths(m,n):\n",
      "    if min (m,n)==1:\n",
      "        return 1\n",
      "    else:\n",
      "        return n_paths(m-1,n)+n_paths(m,n-1)\n",
      "\n",
      "\n",
      "\n"
     ],
     "language": "python",
     "metadata": {},
     "outputs": [],
     "prompt_number": 24
    },
    {
     "cell_type": "code",
     "collapsed": false,
     "input": [
      "n_paths(14,9)"
     ],
     "language": "python",
     "metadata": {},
     "outputs": [
      {
       "metadata": {},
       "output_type": "pyout",
       "prompt_number": 33,
       "text": [
        "203490"
       ]
      }
     ],
     "prompt_number": 33
    },
    {
     "cell_type": "code",
     "collapsed": false,
     "input": [
      "def uniquePaths( m, n):\n",
      "        # From the top-left cell to bottom-right cell, there are\n",
      "        # totally m+n-2 moves. Among these moves, m-1 is moving\n",
      "        # downwards, and n-1 is moving to right. So the number of\n",
      "        # possible unique paths = C(m+n-2, m-1) = C(m+n-2, n-1).\n",
      "        result = 1\n",
      "        \n",
      "        # Because C(m+n-2, m-1) = C(m+n-2, n-1), we are going to\n",
      "        # do one with less steps.\n",
      "        total = m + n - 2\n",
      "        chosen = min(m, n) - 1\n",
      "        \n",
      "        # http://en.wikipedia.org/wiki/Binomial_coefficient\n",
      "        for i in xrange(total, total-chosen, -1):    result *= i\n",
      "        for i in xrange(chosen):                     result //= (i+1)\n",
      "        \n",
      "        return result\n"
     ],
     "language": "python",
     "metadata": {},
     "outputs": [],
     "prompt_number": 35
    },
    {
     "cell_type": "code",
     "collapsed": false,
     "input": [
      "uniquePaths(14,9)"
     ],
     "language": "python",
     "metadata": {},
     "outputs": [
      {
       "metadata": {},
       "output_type": "pyout",
       "prompt_number": 36,
       "text": [
        "203490"
       ]
      }
     ],
     "prompt_number": 36
    },
    {
     "cell_type": "code",
     "collapsed": false,
     "input": [
      "Given an integer n, generate a square matrix filled with elements from 1 to n2 in spiral order.\n",
      "\n",
      "For example,\n",
      "Given n = 3,\n",
      "\n",
      "You should return the following matrix:"
     ],
     "language": "python",
     "metadata": {},
     "outputs": []
    },
    {
     "cell_type": "code",
     "collapsed": false,
     "input": [
      "def gen_spiral(n):\n",
      "    matrix=[]\n",
      "    for i in range(n):\n",
      "        matrix.append([0]*n)\n",
      "    count =1\n",
      "    x=0\n",
      "    y=0\n",
      "    row_end= n-1\n",
      "    col_end = n-1\n",
      "    while count <= n**2:\n",
      "        matix[y][x] = count\n",
      "        count = count+1\n",
      "            if \n",
      "       \n",
      "    "
     ],
     "language": "python",
     "metadata": {},
     "outputs": []
    },
    {
     "cell_type": "code",
     "collapsed": false,
     "input": [
      "[]*4\n"
     ],
     "language": "python",
     "metadata": {},
     "outputs": [
      {
       "metadata": {},
       "output_type": "pyout",
       "prompt_number": 37,
       "text": [
        "[]"
       ]
      }
     ],
     "prompt_number": 37
    },
    {
     "cell_type": "code",
     "collapsed": false,
     "input": [
      "matrix=[]\n",
      "for i in range(4):\n",
      "    matrix.append([0]*4)\n",
      "\n",
      "matrix[0][1]=1\n",
      "matrix"
     ],
     "language": "python",
     "metadata": {},
     "outputs": [
      {
       "metadata": {},
       "output_type": "pyout",
       "prompt_number": 61,
       "text": [
        "[[0, 1, 0, 0], [0, 0, 0, 0], [0, 0, 0, 0], [0, 0, 0, 0]]"
       ]
      }
     ],
     "prompt_number": 61
    },
    {
     "cell_type": "code",
     "collapsed": false,
     "input": [
      "1, 11, 21, 1211, 111221, ...\n",
      "\n",
      "1 is read off as \"one 1\" or 11.\n",
      "11 is read off as \"two 1s\" or 21.\n",
      "21 is read off as \"one 2, then one 1\" or 1211.\n",
      "Given an integer n, generate the nth sequence."
     ],
     "language": "python",
     "metadata": {},
     "outputs": []
    },
    {
     "cell_type": "code",
     "collapsed": false,
     "input": [
      "def count_say (n):\n",
      "    if n==1:\n",
      "       my_str=\"1\"\n",
      "    else:\n",
      "        my_str= str(sum(int(x) for x in count_say(n-1))) +str(count_say(n-1))\n",
      "    return my_str\n",
      "        \n",
      "\n",
      "\n",
      "\n"
     ],
     "language": "python",
     "metadata": {},
     "outputs": [],
     "prompt_number": 81
    },
    {
     "cell_type": "code",
     "collapsed": false,
     "input": [
      "count_say(4)\n"
     ],
     "language": "python",
     "metadata": {},
     "outputs": [
      {
       "metadata": {},
       "output_type": "pyout",
       "prompt_number": 82,
       "text": [
        "'4211'"
       ]
      }
     ],
     "prompt_number": 82
    },
    {
     "cell_type": "code",
     "collapsed": false,
     "input": [],
     "language": "python",
     "metadata": {},
     "outputs": []
    }
   ],
   "metadata": {}
  }
 ]
}
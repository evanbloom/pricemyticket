{
 "metadata": {
  "name": "",
  "signature": "sha256:58850a3f15a7b84d35808647d8f9912cdef7d113cab0cbf53af7b19f16ba1477"
 },
 "nbformat": 3,
 "nbformat_minor": 0,
 "worksheets": [
  {
   "cells": [
    {
     "cell_type": "code",
     "collapsed": false,
     "input": [
      "def speak_str (n):\n",
      "    for i in range(n):\n",
      "        if i==0:\n",
      "            old_str=\"1\"\n",
      "        else:\n",
      "            new_str=\"\"\n",
      "            while len(old_str)>0:\n",
      "                temp = old_str[:2]\n",
      "                if len(temp)==1:\n",
      "                    temp = \"1\"+temp  \n",
      "                    old_str= old_str[1:]\n",
      "                elif temp[0]==temp[1]:\n",
      "                    temp = \"2\"+temp[0]\n",
      "                    old_str= old_str[2:]\n",
      "                else:\n",
      "                    temp=\"1\"+temp[0]\n",
      "                    old_str= old_str[1:]\n",
      "                new_str= new_str+temp\n",
      "                \n",
      "            old_str= new_str\n",
      "    return (old_str)\n",
      "    "
     ],
     "language": "python",
     "metadata": {},
     "outputs": [],
     "prompt_number": 50
    },
    {
     "cell_type": "code",
     "collapsed": false,
     "input": [
      "speak_str(7)"
     ],
     "language": "python",
     "metadata": {},
     "outputs": [
      {
       "metadata": {},
       "output_type": "pyout",
       "prompt_number": 56,
       "text": [
        "'1221112221'"
       ]
      }
     ],
     "prompt_number": 56
    },
    {
     "cell_type": "code",
     "collapsed": false,
     "input": [
      "1221112221"
     ],
     "language": "python",
     "metadata": {},
     "outputs": [
      {
       "metadata": {},
       "output_type": "pyout",
       "prompt_number": 35,
       "text": [
        "21112211"
       ]
      }
     ],
     "prompt_number": 35
    },
    {
     "cell_type": "code",
     "collapsed": false,
     "input": [
      "def count_and_say (number):\n",
      "    \n"
     ],
     "language": "python",
     "metadata": {},
     "outputs": [],
     "prompt_number": 63
    },
    {
     "cell_type": "code",
     "collapsed": false,
     "input": [
      "def look_say (number):\n",
      "    repeat = number[0]\n",
      "    number = number[1:]+\" \"\n",
      "    count = 1\n",
      "    result=\"\"\n",
      "    for digit in number:\n",
      "        if digit== repeat:\n",
      "            count+=1\n",
      "        else:\n",
      "            result= result+str(count)+repeat\n",
      "            repeat = digit\n",
      "            count=1\n",
      "    return result\n",
      "        \n",
      "def count_say (n):\n",
      "    for i in range(n):\n",
      "        if i==0:\n",
      "            num='1'\n",
      "        else:\n",
      "            num= look_say(num)\n",
      "    print num"
     ],
     "language": "python",
     "metadata": {},
     "outputs": [],
     "prompt_number": 86
    },
    {
     "cell_type": "code",
     "collapsed": false,
     "input": [
      "count_say(13)"
     ],
     "language": "python",
     "metadata": {},
     "outputs": [
      {
       "output_type": "stream",
       "stream": "stdout",
       "text": [
        "1321132132111213122112311311222113111221131221\n"
       ]
      }
     ],
     "prompt_number": 89
    },
    {
     "cell_type": "code",
     "collapsed": false,
     "input": [
      "def fill_spiral(n):\n",
      "    matrix =[]\n",
      "    for i in range(n):\n",
      "        matrix.append([0]*4)\n",
      "    x=0\n",
      "    y=0\n",
      "    max_x= n-1\n",
      "    max_y =n-1\n",
      "    \n",
      "    for i in range(1,n**2+1):\n",
      "        matrix[y][x]=i\n",
      "        \n",
      "         if x<max_x and y<max_y:\n",
      "            x +=1\n",
      "            y = y\n",
      "            \n",
      "        elif x==max_x and y<max_y:\n",
      "            x ==\n",
      "    \n",
      "    return matrix"
     ],
     "language": "python",
     "metadata": {},
     "outputs": [],
     "prompt_number": 95
    },
    {
     "cell_type": "code",
     "collapsed": false,
     "input": [
      "a=fill_spiral (4)"
     ],
     "language": "python",
     "metadata": {},
     "outputs": [],
     "prompt_number": 98
    },
    {
     "cell_type": "code",
     "collapsed": false,
     "input": [
      "a[0][1]=1"
     ],
     "language": "python",
     "metadata": {},
     "outputs": [],
     "prompt_number": 99
    },
    {
     "cell_type": "code",
     "collapsed": false,
     "input": [
      "a"
     ],
     "language": "python",
     "metadata": {},
     "outputs": [
      {
       "metadata": {},
       "output_type": "pyout",
       "prompt_number": 100,
       "text": [
        "[[0, 1, 0, 0], [0, 0, 0, 0], [0, 0, 0, 0], [0, 0, 0, 0]]"
       ]
      }
     ],
     "prompt_number": 100
    },
    {
     "cell_type": "code",
     "collapsed": false,
     "input": [
      "def min_list_n2(aList):\n",
      "    for i in aList:\n",
      "            less_than =0\n",
      "            for j in aList:\n",
      "                if i <=j:\n",
      "                    less_than +=1\n",
      "            if less_than == len(aList):\n",
      "                return i\n",
      "\n",
      "\n",
      "def min_list_n(aList):\n",
      "    min_x= aList[0]\n",
      "    for x in aList:\n",
      "        if x<min_x:\n",
      "            min_x= x\n",
      "    return (min_x)\n",
      "                    "
     ],
     "language": "python",
     "metadata": {},
     "outputs": [],
     "prompt_number": 103
    },
    {
     "cell_type": "code",
     "collapsed": false,
     "input": [
      "myList=[2,5,1,4,-1]\n",
      "\n",
      "\n",
      "print min_list_n2(myList)\n",
      "print min_list_n(myList)"
     ],
     "language": "python",
     "metadata": {},
     "outputs": [
      {
       "output_type": "stream",
       "stream": "stdout",
       "text": [
        "-1\n",
        "-1\n"
       ]
      }
     ],
     "prompt_number": 106
    },
    {
     "cell_type": "code",
     "collapsed": false,
     "input": [
      "ord('b')"
     ],
     "language": "python",
     "metadata": {},
     "outputs": [
      {
       "metadata": {},
       "output_type": "pyout",
       "prompt_number": 109,
       "text": [
        "98"
       ]
      }
     ],
     "prompt_number": 109
    },
    {
     "cell_type": "code",
     "collapsed": false,
     "input": [
      "myList=[2,5,1,4,-1]\n",
      "myList.index(5)"
     ],
     "language": "python",
     "metadata": {},
     "outputs": [
      {
       "metadata": {},
       "output_type": "pyout",
       "prompt_number": 117,
       "text": [
        "1"
       ]
      }
     ],
     "prompt_number": 117
    },
    {
     "cell_type": "code",
     "collapsed": false,
     "input": [
      "import time\n",
      "\n",
      "\n",
      "def time_index_n (aVal, aList):\n",
      "    start= time.time()\n",
      "    for i in range(len(aList)):\n",
      "        if i==aVal:\n",
      "            my_index= i\n",
      "    run_time= time.time()-start\n",
      "    print \"the index is \" + str(my_index) + \"and the rune time is \"+ str(run_time)\n",
      "\n",
      "def time_index_1 (aVal, aList):\n",
      "    start= time.time()\n",
      "    my_index = aList.index(aVal)\n",
      "    run_time= time.time()-start\n",
      "    print \"the index is \" + str(my_index) + \"and the rune time is \"+ str(run_time) \n",
      "\n"
     ],
     "language": "python",
     "metadata": {},
     "outputs": [],
     "prompt_number": 2
    },
    {
     "cell_type": "code",
     "collapsed": false,
     "input": [
      "myVal= 70000\n",
      "myList= list(range(100000))\n",
      "\n",
      "time_index_n(myVal, myList)\n",
      "time_index_1(myVal, myList)"
     ],
     "language": "python",
     "metadata": {},
     "outputs": [
      {
       "output_type": "stream",
       "stream": "stdout",
       "text": [
        "the index is 70000and the rune time is 0.00693917274475\n",
        "the index is 70000and the rune time is 0.0019690990448seconds\n"
       ]
      }
     ],
     "prompt_number": 3
    },
    {
     "cell_type": "code",
     "collapsed": false,
     "input": [
      "mydict= {'a':1, 'b':2, 'c':3}\n",
      "print mydict\n",
      "mydict['a'] = 4\n",
      "print mydict"
     ],
     "language": "python",
     "metadata": {},
     "outputs": [
      {
       "output_type": "stream",
       "stream": "stdout",
       "text": [
        "{'a': 1, 'c': 3, 'b': 2}\n",
        "{'a': 4, 'c': 3, 'b': 2}\n"
       ]
      }
     ],
     "prompt_number": 23
    },
    {
     "cell_type": "markdown",
     "metadata": {},
     "source": [
      "mydict.get('a')"
     ]
    },
    {
     "cell_type": "code",
     "collapsed": false,
     "input": [
      "myList= [1,3,4,2,1,2,1]\n",
      "myList.sort()\n",
      "print myList"
     ],
     "language": "python",
     "metadata": {},
     "outputs": [
      {
       "output_type": "stream",
       "stream": "stdout",
       "text": [
        "[1, 1, 1, 2, 2, 3, 4]\n"
       ]
      }
     ],
     "prompt_number": 26
    },
    {
     "cell_type": "code",
     "collapsed": false,
     "input": [
      "myList= [1,3,4,2,1,2,1]\n",
      "\n",
      "def k_smallest (k, aList):\n",
      "    aList.sort()\n",
      "    return aList[k-1]\n",
      "    "
     ],
     "language": "python",
     "metadata": {},
     "outputs": [],
     "prompt_number": 31
    },
    {
     "cell_type": "code",
     "collapsed": false,
     "input": [
      "print k_smallest (5,myList)"
     ],
     "language": "python",
     "metadata": {},
     "outputs": [
      {
       "output_type": "stream",
       "stream": "stdout",
       "text": [
        "2\n"
       ]
      }
     ],
     "prompt_number": 34
    },
    {
     "cell_type": "code",
     "collapsed": false,
     "input": [
      "256//16"
     ],
     "language": "python",
     "metadata": {},
     "outputs": [
      {
       "metadata": {},
       "output_type": "pyout",
       "prompt_number": 35,
       "text": [
        "16"
       ]
      }
     ],
     "prompt_number": 35
    },
    {
     "cell_type": "code",
     "collapsed": false,
     "input": [
      "256%16"
     ],
     "language": "python",
     "metadata": {},
     "outputs": [
      {
       "metadata": {},
       "output_type": "pyout",
       "prompt_number": 36,
       "text": [
        "0"
       ]
      }
     ],
     "prompt_number": 36
    },
    {
     "cell_type": "code",
     "collapsed": false,
     "input": [
      "myList=[1,-1,4,2,4,-11,22,1]\n",
      "\n",
      "def max_sub (aList):\n",
      "    len_list= len(aList)\n",
      "    max_list=myList[0]\n",
      "    sum_max_list= myList[0]\n",
      "    for i in range(len_list):\n",
      "        for j in range(len_list-i+1):\n",
      "            temp_list= aList[i:i+j]\n",
      "            sum_temp_list= sum(temp_list)\n",
      "            if sum_temp_list> sum_max_list:\n",
      "                sum_max_list = sum_temp_list\n",
      "                max_list= temp_list\n",
      "    return {sum_max_list:max_list}\n",
      "    "
     ],
     "language": "python",
     "metadata": {},
     "outputs": [],
     "prompt_number": 53
    },
    {
     "cell_type": "code",
     "collapsed": false,
     "input": [
      "max_sub(myList)"
     ],
     "language": "python",
     "metadata": {},
     "outputs": [
      {
       "metadata": {},
       "output_type": "pyout",
       "prompt_number": 54,
       "text": [
        "{23: [22, 1]}"
       ]
      }
     ],
     "prompt_number": 54
    },
    {
     "cell_type": "code",
     "collapsed": false,
     "input": [
      "def max_sub2 (aList):\n",
      "    sub=aList\n",
      "    if len(sub)==1:\n",
      "        if sum(sub)>0:\n",
      "            sub.append(sub)\n",
      "    else:\n",
      "        sub= sub.append(max_sub2(sub.pop()))\n",
      "        "
     ],
     "language": "python",
     "metadata": {},
     "outputs": [],
     "prompt_number": 56
    },
    {
     "cell_type": "code",
     "collapsed": false,
     "input": [
      "max_sub2(myList)"
     ],
     "language": "python",
     "metadata": {},
     "outputs": [
      {
       "ename": "IndexError",
       "evalue": "pop from empty list",
       "output_type": "pyerr",
       "traceback": [
        "\u001b[0;31m---------------------------------------------------------------------------\u001b[0m\n\u001b[0;31mIndexError\u001b[0m                                Traceback (most recent call last)",
        "\u001b[0;32m<ipython-input-57-531fdee34b08>\u001b[0m in \u001b[0;36m<module>\u001b[0;34m()\u001b[0m\n\u001b[0;32m----> 1\u001b[0;31m \u001b[0mmax_sub2\u001b[0m\u001b[0;34m(\u001b[0m\u001b[0mmyList\u001b[0m\u001b[0;34m)\u001b[0m\u001b[0;34m\u001b[0m\u001b[0m\n\u001b[0m",
        "\u001b[0;32m<ipython-input-56-33477332521d>\u001b[0m in \u001b[0;36mmax_sub2\u001b[0;34m(aList)\u001b[0m\n\u001b[1;32m      5\u001b[0m             \u001b[0msub\u001b[0m\u001b[0;34m.\u001b[0m\u001b[0mappend\u001b[0m\u001b[0;34m(\u001b[0m\u001b[0msub\u001b[0m\u001b[0;34m)\u001b[0m\u001b[0;34m\u001b[0m\u001b[0m\n\u001b[1;32m      6\u001b[0m     \u001b[0;32melse\u001b[0m\u001b[0;34m:\u001b[0m\u001b[0;34m\u001b[0m\u001b[0m\n\u001b[0;32m----> 7\u001b[0;31m         \u001b[0msub\u001b[0m\u001b[0;34m=\u001b[0m \u001b[0msub\u001b[0m\u001b[0;34m.\u001b[0m\u001b[0mappend\u001b[0m\u001b[0;34m(\u001b[0m\u001b[0mmax_sub2\u001b[0m\u001b[0;34m(\u001b[0m\u001b[0msub\u001b[0m\u001b[0;34m.\u001b[0m\u001b[0mpop\u001b[0m\u001b[0;34m(\u001b[0m\u001b[0;34m)\u001b[0m\u001b[0;34m)\u001b[0m\u001b[0;34m)\u001b[0m\u001b[0;34m\u001b[0m\u001b[0m\n\u001b[0m\u001b[1;32m      8\u001b[0m \u001b[0;34m\u001b[0m\u001b[0m\n",
        "\u001b[0;31mIndexError\u001b[0m: pop from empty list"
       ]
      }
     ],
     "prompt_number": 57
    },
    {
     "cell_type": "code",
     "collapsed": false,
     "input": [
      "def max_subarray(A):\n",
      "    max_ending_here = max_so_far = 0\n",
      "    for x in A:\n",
      "        max_ending_here = max(0, max_ending_here + x)\n",
      "        max_so_far = max(max_so_far, max_ending_here)\n",
      "        print x, max_ending_here, max_so_far\n",
      "    return max_so_far"
     ],
     "language": "python",
     "metadata": {},
     "outputs": [],
     "prompt_number": 65
    },
    {
     "cell_type": "code",
     "collapsed": false,
     "input": [
      "max_subarray(myList)"
     ],
     "language": "python",
     "metadata": {},
     "outputs": [
      {
       "output_type": "stream",
       "stream": "stdout",
       "text": [
        "1 1 1\n",
        "-1 0 1\n",
        "4 4 4\n",
        "2 6 6\n",
        "4 10 10\n",
        "-11 0 10\n",
        "22 22 22\n",
        "1 23 23\n"
       ]
      },
      {
       "metadata": {},
       "output_type": "pyout",
       "prompt_number": 66,
       "text": [
        "23"
       ]
      }
     ],
     "prompt_number": 66
    },
    {
     "cell_type": "code",
     "collapsed": false,
     "input": [
      "Given an array of non-negative integers, you are initially positioned at the first index of the array.\n",
      "\n",
      "Each element in the array represents your maximum jump length at that position.\n",
      "\n",
      "Determine if you are able to reach the last index.\n",
      "\n",
      "For example:\n",
      "A = [2,3,1,1,4], return true.\n",
      "\n",
      "A = [3,2,1,0,4], return false."
     ],
     "language": "python",
     "metadata": {},
     "outputs": [
      {
       "ename": "SyntaxError",
       "evalue": "invalid syntax (<ipython-input-67-54a7839c2792>, line 1)",
       "output_type": "pyerr",
       "traceback": [
        "\u001b[0;36m  File \u001b[0;32m\"<ipython-input-67-54a7839c2792>\"\u001b[0;36m, line \u001b[0;32m1\u001b[0m\n\u001b[0;31m    Given an array of non-negative integers, you are initially positioned at the first index of the array.\u001b[0m\n\u001b[0m           ^\u001b[0m\n\u001b[0;31mSyntaxError\u001b[0m\u001b[0;31m:\u001b[0m invalid syntax\n"
       ]
      }
     ],
     "prompt_number": 67
    },
    {
     "cell_type": "code",
     "collapsed": false,
     "input": [
      "def jump(array):\n",
      "    \n",
      "    able= True\n",
      "    pos= 1\n",
      "    while len(array)>0 and able:\n",
      "        print array , pos, array[-pos]\n",
      "        if array[-pos]>= pos:\n",
      "            array= array[:-pos]\n",
      "            pos = 1\n",
      "        else:\n",
      "            pos +=1\n",
      "            if pos > len(array):\n",
      "                able=False\n",
      "        \n",
      "    return able\n",
      "\n",
      "\n",
      "\n",
      "        \n",
      "        "
     ],
     "language": "python",
     "metadata": {},
     "outputs": [
      {
       "output_type": "stream",
       "stream": "stdout",
       "text": [
        "\n"
       ]
      }
     ],
     "prompt_number": 122
    },
    {
     "cell_type": "code",
     "collapsed": false,
     "input": [
      "A = [11,14,1,0,11,2,2,1,0,13,1,2,2,0,4,3,2,1,0]\n",
      "jump(A)"
     ],
     "language": "python",
     "metadata": {},
     "outputs": [
      {
       "output_type": "stream",
       "stream": "stdout",
       "text": [
        "[11, 14, 1, 0, 11, 2, 2, 1, 0, 13, 1, 2, 2, 0, 4, 3, 2, 1, 0] 1 0\n",
        "[11, 14, 1, 0, 11, 2, 2, 1, 0, 13, 1, 2, 2, 0, 4, 3, 2, 1, 0] 2 1\n",
        "[11, 14, 1, 0, 11, 2, 2, 1, 0, 13, 1, 2, 2, 0, 4, 3, 2, 1, 0] 3 2\n",
        "[11, 14, 1, 0, 11, 2, 2, 1, 0, 13, 1, 2, 2, 0, 4, 3, 2, 1, 0] 4 3\n",
        "[11, 14, 1, 0, 11, 2, 2, 1, 0, 13, 1, 2, 2, 0, 4, 3, 2, 1, 0] 5 4\n",
        "[11, 14, 1, 0, 11, 2, 2, 1, 0, 13, 1, 2, 2, 0, 4, 3, 2, 1, 0] 6 0\n",
        "[11, 14, 1, 0, 11, 2, 2, 1, 0, 13, 1, 2, 2, 0, 4, 3, 2, 1, 0] 7 2\n",
        "[11, 14, 1, 0, 11, 2, 2, 1, 0, 13, 1, 2, 2, 0, 4, 3, 2, 1, 0] 8 2\n",
        "[11, 14, 1, 0, 11, 2, 2, 1, 0, 13, 1, 2, 2, 0, 4, 3, 2, 1, 0] 9 1\n",
        "[11, 14, 1, 0, 11, 2, 2, 1, 0, 13, 1, 2, 2, 0, 4, 3, 2, 1, 0] 10 13\n",
        "[11, 14, 1, 0, 11, 2, 2, 1, 0] 1 0\n",
        "[11, 14, 1, 0, 11, 2, 2, 1, 0] 2 1\n",
        "[11, 14, 1, 0, 11, 2, 2, 1, 0] 3 2\n",
        "[11, 14, 1, 0, 11, 2, 2, 1, 0] 4 2\n",
        "[11, 14, 1, 0, 11, 2, 2, 1, 0] 5 11\n",
        "[11, 14, 1, 0] 1 0\n",
        "[11, 14, 1, 0] 2 1\n",
        "[11, 14, 1, 0] 3 14\n",
        "[11] 1 11\n"
       ]
      },
      {
       "metadata": {},
       "output_type": "pyout",
       "prompt_number": 126,
       "text": [
        "True"
       ]
      }
     ],
     "prompt_number": 126
    },
    {
     "cell_type": "code",
     "collapsed": false,
     "input": [
      "def jumpII(array):\n",
      "    step= {}\n",
      "    for pos in range(1,len(array)+1):\n",
      "        print \"pos\", pos\n",
      "        if pos==1:\n",
      "            step[pos]=0\n",
      "        elif array[-(pos)]>=pos:\n",
      "            step[pos]=1\n",
      "        elif (pos + array[-pos])>= max(step.keys()):\n",
      "            print \"step\", step\n",
      "            moves=[]\n",
      "            for i in range(pos- array[-pos],pos):\n",
      "                moves.append(step.get(i))\n",
      "            print \"moves\", moves\n",
      "            step[pos]= min(moves)+1\n",
      "        else:\n",
      "            step[pos]=float(\"inf\")\n",
      "    if step[len(array)]== float(\"inf\"):\n",
      "        return \"cannot be solved\"\n",
      "    else:\n",
      "        return step[len(array)]\n",
      "            \n",
      "            "
     ],
     "language": "python",
     "metadata": {},
     "outputs": [],
     "prompt_number": 264
    },
    {
     "cell_type": "code",
     "collapsed": false,
     "input": [
      "A = [0,1,1,13,4,1,2,2,1,1,4]\n",
      "print jumpII(A)"
     ],
     "language": "python",
     "metadata": {},
     "outputs": [
      {
       "output_type": "stream",
       "stream": "stdout",
       "text": [
        "pos 1\n",
        "pos 2\n",
        "step {1: 0}\n",
        "moves [0]\n",
        "pos 3\n",
        "step {1: 0, 2: 1}\n",
        "moves [1]\n",
        "pos 4\n",
        "step {1: 0, 2: 1, 3: 2}\n",
        "moves [1, 2]\n",
        "pos 5\n",
        "step {1: 0, 2: 1, 3: 2, 4: 2}\n",
        "moves [2, 2]\n",
        "pos 6\n",
        "step {1: 0, 2: 1, 3: 2, 4: 2, 5: 3}\n",
        "moves [3]\n",
        "pos 7\n",
        "step {1: 0, 2: 1, 3: 2, 4: 2, 5: 3, 6: 4}\n",
        "moves [2, 2, 3, 4]\n",
        "pos 8\n",
        "pos 9\n",
        "step {1: 0, 2: 1, 3: 2, 4: 2, 5: 3, 6: 4, 7: 3, 8: 1}\n",
        "moves [1]\n",
        "pos 10\n",
        "step {1: 0, 2: 1, 3: 2, 4: 2, 5: 3, 6: 4, 7: 3, 8: 1, 9: 2}\n",
        "moves [2]\n",
        "pos 11\n",
        "step {1: 0, 2: 1, 3: 2, 4: 2, 5: 3, 6: 4, 7: 3, 8: 1, 9: 2, 10: 3}\n",
        "moves []\n"
       ]
      },
      {
       "ename": "ValueError",
       "evalue": "min() arg is an empty sequence",
       "output_type": "pyerr",
       "traceback": [
        "\u001b[0;31m---------------------------------------------------------------------------\u001b[0m\n\u001b[0;31mValueError\u001b[0m                                Traceback (most recent call last)",
        "\u001b[0;32m<ipython-input-265-95ed6cad4dda>\u001b[0m in \u001b[0;36m<module>\u001b[0;34m()\u001b[0m\n\u001b[1;32m      1\u001b[0m \u001b[0mA\u001b[0m \u001b[0;34m=\u001b[0m \u001b[0;34m[\u001b[0m\u001b[0;36m0\u001b[0m\u001b[0;34m,\u001b[0m\u001b[0;36m1\u001b[0m\u001b[0;34m,\u001b[0m\u001b[0;36m1\u001b[0m\u001b[0;34m,\u001b[0m\u001b[0;36m13\u001b[0m\u001b[0;34m,\u001b[0m\u001b[0;36m4\u001b[0m\u001b[0;34m,\u001b[0m\u001b[0;36m1\u001b[0m\u001b[0;34m,\u001b[0m\u001b[0;36m2\u001b[0m\u001b[0;34m,\u001b[0m\u001b[0;36m2\u001b[0m\u001b[0;34m,\u001b[0m\u001b[0;36m1\u001b[0m\u001b[0;34m,\u001b[0m\u001b[0;36m1\u001b[0m\u001b[0;34m,\u001b[0m\u001b[0;36m4\u001b[0m\u001b[0;34m]\u001b[0m\u001b[0;34m\u001b[0m\u001b[0m\n\u001b[0;32m----> 2\u001b[0;31m \u001b[0;32mprint\u001b[0m \u001b[0mjumpII\u001b[0m\u001b[0;34m(\u001b[0m\u001b[0mA\u001b[0m\u001b[0;34m)\u001b[0m\u001b[0;34m\u001b[0m\u001b[0m\n\u001b[0m",
        "\u001b[0;32m<ipython-input-264-6b00e07b920b>\u001b[0m in \u001b[0;36mjumpII\u001b[0;34m(array)\u001b[0m\n\u001b[1;32m     13\u001b[0m                 \u001b[0mmoves\u001b[0m\u001b[0;34m.\u001b[0m\u001b[0mappend\u001b[0m\u001b[0;34m(\u001b[0m\u001b[0mstep\u001b[0m\u001b[0;34m.\u001b[0m\u001b[0mget\u001b[0m\u001b[0;34m(\u001b[0m\u001b[0mi\u001b[0m\u001b[0;34m)\u001b[0m\u001b[0;34m)\u001b[0m\u001b[0;34m\u001b[0m\u001b[0m\n\u001b[1;32m     14\u001b[0m             \u001b[0;32mprint\u001b[0m \u001b[0;34m\"moves\"\u001b[0m\u001b[0;34m,\u001b[0m \u001b[0mmoves\u001b[0m\u001b[0;34m\u001b[0m\u001b[0m\n\u001b[0;32m---> 15\u001b[0;31m             \u001b[0mstep\u001b[0m\u001b[0;34m[\u001b[0m\u001b[0mpos\u001b[0m\u001b[0;34m]\u001b[0m\u001b[0;34m=\u001b[0m \u001b[0mmin\u001b[0m\u001b[0;34m(\u001b[0m\u001b[0mmoves\u001b[0m\u001b[0;34m)\u001b[0m\u001b[0;34m+\u001b[0m\u001b[0;36m1\u001b[0m\u001b[0;34m\u001b[0m\u001b[0m\n\u001b[0m\u001b[1;32m     16\u001b[0m         \u001b[0;32melse\u001b[0m\u001b[0;34m:\u001b[0m\u001b[0;34m\u001b[0m\u001b[0m\n\u001b[1;32m     17\u001b[0m             \u001b[0mstep\u001b[0m\u001b[0;34m[\u001b[0m\u001b[0mpos\u001b[0m\u001b[0;34m]\u001b[0m\u001b[0;34m=\u001b[0m\u001b[0mfloat\u001b[0m\u001b[0;34m(\u001b[0m\u001b[0;34m\"inf\"\u001b[0m\u001b[0;34m)\u001b[0m\u001b[0;34m\u001b[0m\u001b[0m\n",
        "\u001b[0;31mValueError\u001b[0m: min() arg is an empty sequence"
       ]
      }
     ],
     "prompt_number": 265
    },
    {
     "cell_type": "code",
     "collapsed": false,
     "input": [
      "step.keys()"
     ],
     "language": "python",
     "metadata": {},
     "outputs": [
      {
       "metadata": {},
       "output_type": "pyout",
       "prompt_number": 129,
       "text": [
        "[1, 2, 3]"
       ]
      }
     ],
     "prompt_number": 129
    },
    {
     "cell_type": "code",
     "collapsed": false,
     "input": [
      "range(2,4,-1)"
     ],
     "language": "python",
     "metadata": {},
     "outputs": [
      {
       "metadata": {},
       "output_type": "pyout",
       "prompt_number": 149,
       "text": [
        "[]"
       ]
      }
     ],
     "prompt_number": 149
    },
    {
     "cell_type": "code",
     "collapsed": false,
     "input": [
      "range(4,2,-1)"
     ],
     "language": "python",
     "metadata": {},
     "outputs": [
      {
       "metadata": {},
       "output_type": "pyout",
       "prompt_number": 150,
       "text": [
        "[4, 3]"
       ]
      }
     ],
     "prompt_number": 150
    },
    {
     "cell_type": "code",
     "collapsed": false,
     "input": [
      "a={}\n",
      "a[5]=float(\"inf\")"
     ],
     "language": "python",
     "metadata": {},
     "outputs": [],
     "prompt_number": 193
    },
    {
     "cell_type": "code",
     "collapsed": false,
     "input": [
      "a"
     ],
     "language": "python",
     "metadata": {},
     "outputs": [
      {
       "metadata": {},
       "output_type": "pyout",
       "prompt_number": 194,
       "text": [
        "{5: inf}"
       ]
      }
     ],
     "prompt_number": 194
    },
    {
     "cell_type": "code",
     "collapsed": false,
     "input": [],
     "language": "python",
     "metadata": {},
     "outputs": []
    }
   ],
   "metadata": {}
  }
 ]
}
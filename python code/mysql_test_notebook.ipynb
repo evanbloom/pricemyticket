{
 "metadata": {
  "name": "",
  "signature": "sha256:ae013de53fc704f9439aaf43176e92319c050aa55ce52b311a5aa9db0901dfa5"
 },
 "nbformat": 3,
 "nbformat_minor": 0,
 "worksheets": [
  {
   "cells": [
    {
     "cell_type": "code",
     "collapsed": false,
     "input": [
      "import os\n",
      "import sys\n",
      "import MySQLdb"
     ],
     "language": "python",
     "metadata": {},
     "outputs": [],
     "prompt_number": 2
    },
    {
     "cell_type": "code",
     "collapsed": false,
     "input": [
      "# this establishes the connection to the database-- testdb was the one we used for the dev setup\n",
      "# you'll need to update the password field\n",
      "conn = MySQLdb.connect(host='localhost',port=int(3306),user='root',passwd='FsI786h4',db='testdb')\n",
      "x = conn.cursor()"
     ],
     "language": "python",
     "metadata": {},
     "outputs": [],
     "prompt_number": 5
    },
    {
     "cell_type": "code",
     "collapsed": false,
     "input": [
      "# set up a table for this demo-- it has 3 columns -- the first is labeled the primary key and must have unique values\n",
      "x.execute(\"DROP TABLE IF EXISTS mysqldemo\")\n",
      "x.execute(\"CREATE TABLE mysqldemo(id VARCHAR(40) PRIMARY KEY, tags varchar(255), link varchar(255))\")"
     ],
     "language": "python",
     "metadata": {},
     "outputs": [
      {
       "output_type": "stream",
       "stream": "stderr",
       "text": [
        "-c:2: Warning: Unknown table 'testdb.mysqldemo'\n"
       ]
      },
      {
       "metadata": {},
       "output_type": "pyout",
       "prompt_number": 6,
       "text": [
        "0L"
       ]
      }
     ],
     "prompt_number": 6
    },
    {
     "cell_type": "code",
     "collapsed": false,
     "input": [
      "# sample data which I could pull from an API or a text document\n",
      "textdata = [['DE3','green','google.com'],['XA6','blue','apple.com'],['PO2','yellow','microsoft.com']]\n",
      "\n",
      "# loop over each array\n",
      "for textline in textdata:\n",
      "    \n",
      "    # this is the command I want to send MySQL with variables which I can fill in later\n",
      "    insert = '''\n",
      "      INSERT into mysqldemo \n",
      "      (id, tags, link) \n",
      "      VALUES (%s,%s,%s)\n",
      "      '''\n",
      "    # this sends the cammand, with a set of variables that I choose\n",
      "    x.execute(insert,(textline[0],textline[1],textline[2]))\n",
      "    \n",
      "# so far everything that's been done is held in a temporary space. This command makes it permenant.\n",
      "# without this command, the changes to the database will dissapear once the script finished running\n",
      "conn.commit()\n",
      "\n",
      "# however if you try to run this twice, you'll see that MySQL throws an error because you're trying to \n",
      "# enter a value into the primary key column (ID) that already exists"
     ],
     "language": "python",
     "metadata": {},
     "outputs": [],
     "prompt_number": 7
    },
    {
     "cell_type": "code",
     "collapsed": false,
     "input": [
      "# this does the same thing, but check for uniqueness first\n",
      "\n",
      "textdata = [['DE3','green','google.com'],['XA6','blue','apple.com'],['PO2','yellow','microsoft.com']]\n",
      "\n",
      "for textline in textdata:\n",
      "    \n",
      "    # here I ask MySQL to find the unique ID in the table\n",
      "    fc = 'SELECT id FROM mysqldemo WHERE id=%s'\n",
      "    x.execute(fc,(textline[0],))\n",
      "    outp = x.fetchall()  \n",
      "    \n",
      "    # if it's not found I'll insert it\n",
      "    if not outp:\n",
      "        insert = '''\n",
      "          INSERT into mysqldemo \n",
      "          (id, tags, link) \n",
      "          VALUES (%s,%s,%s)\n",
      "          '''\n",
      "        x.execute(insert,(textline[0],textline[1],textline[2]))\n",
      "    else: # otherwise I won't\n",
      "        print 'already in table!'\n",
      "        \n",
      "conn.commit()"
     ],
     "language": "python",
     "metadata": {},
     "outputs": [
      {
       "output_type": "stream",
       "stream": "stdout",
       "text": [
        "already in table!\n",
        "already in table!\n",
        "already in table!\n"
       ]
      }
     ],
     "prompt_number": 156
    },
    {
     "cell_type": "code",
     "collapsed": false,
     "input": [
      "# here I look up values which match a certain ID\n",
      "\n",
      "idtest = 'XA6'\n",
      "x.execute('''\n",
      "  select id, tags, link\n",
      "  from mysqldemo\n",
      "  where id = %s\n",
      "  ''',(idtest,))\n",
      "   \n",
      "result = x.fetchall()\n",
      "print result"
     ],
     "language": "python",
     "metadata": {},
     "outputs": [
      {
       "output_type": "stream",
       "stream": "stdout",
       "text": [
        "(('XA6', 'blue', 'apple.com'),)\n"
       ]
      }
     ],
     "prompt_number": 8
    },
    {
     "cell_type": "code",
     "collapsed": false,
     "input": [
      "# or I can ask for everything it has in columns 1 and 3\n",
      "x.execute('''\n",
      "  select id, link\n",
      "  from mysqldemo\n",
      "  ''')\n",
      "   \n",
      "result = x.fetchall()\n",
      "print result"
     ],
     "language": "python",
     "metadata": {},
     "outputs": [
      {
       "output_type": "stream",
       "stream": "stdout",
       "text": [
        "(('DE3', 'google.com'), ('PO2', 'microsoft.com'), ('XA6', 'apple.com'))\n"
       ]
      }
     ],
     "prompt_number": 9
    },
    {
     "cell_type": "code",
     "collapsed": false,
     "input": [
      "# you can also do some other easy counting / sorting functions\n",
      "\n",
      "# count the number of entries\n",
      "x.execute('''\n",
      "  select count(id)\n",
      "  from mysqldemo\n",
      "  ''')\n",
      "   \n",
      "result = x.fetchall()\n",
      "print result\n",
      "\n",
      "# find the smallest value\n",
      "x.execute('''\n",
      "  select min(id)\n",
      "  from mysqldemo\n",
      "  ''')\n",
      "   \n",
      "result = x.fetchall()\n",
      "print result\n"
     ],
     "language": "python",
     "metadata": {},
     "outputs": [
      {
       "output_type": "stream",
       "stream": "stdout",
       "text": [
        "((3L,),)\n",
        "(('DE3',),)\n"
       ]
      }
     ],
     "prompt_number": 160
    },
    {
     "cell_type": "code",
     "collapsed": false,
     "input": [
      "# you should close the session when you finish\n",
      "x.close()\n",
      "conn.close()"
     ],
     "language": "python",
     "metadata": {},
     "outputs": [],
     "prompt_number": 161
    },
    {
     "cell_type": "code",
     "collapsed": false,
     "input": [],
     "language": "python",
     "metadata": {},
     "outputs": []
    }
   ],
   "metadata": {}
  }
 ]
}
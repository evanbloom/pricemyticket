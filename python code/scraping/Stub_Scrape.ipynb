{
 "metadata": {
  "name": "",
  "signature": "sha256:95a72a8779945640c7a388eed4fa4cccf218eac8ce426e9434ac76c3cecb6050"
 },
 "nbformat": 3,
 "nbformat_minor": 0,
 "worksheets": [
  {
   "cells": [
    {
     "cell_type": "code",
     "collapsed": false,
     "input": [],
     "language": "python",
     "metadata": {},
     "outputs": [],
     "prompt_number": 0
    },
    {
     "cell_type": "code",
     "collapsed": false,
     "input": [
      "\n",
      "import json\n",
      "from pprint import pprint\n",
      "import urllib2\n",
      "import pandas as pd\n",
      "import datetime\n",
      "\n",
      "\n",
      "\n",
      "#This function querries the Stubhub ticket api, grabs ticket information, section information, and priice\n",
      "#This functions is looped frequently to querry different events\n",
      "\n",
      "def dl_tickets (event_id):\n",
      "\n",
      "    url = 'http://www.stubhub.com/ticketAPI/restSvc/event/%s' %event_id\n",
      "    current_time=datetime.datetime.now().strftime(\"%y-%m-%d-%H-%M\")\n",
      "\n",
      "    #Download Listing of Tickets\n",
      "    data = json.load(urllib2.urlopen(url))\n",
      "    tickets = data['eventTicketListing']['eventTicket']\n",
      "\n",
      "\n",
      "    #Parse JSON file to geat ticket ID, seat info and price\n",
      "\n",
      "    ticket_id = [ticket['id'] for ticket in tickets]\n",
      "    ticket_section = [str(ticket['st'] )for ticket in tickets]\n",
      "    ticket_row = [str(ticket['rd']) for ticket in tickets]\n",
      "    ticket_qt= [str(ticket['qt']) for ticket in tickets]\n",
      "    ticket_seat = [str(ticket['se']) for ticket in tickets]\n",
      "    prices = [ticket['tc']['amount'] for ticket in tickets]\n",
      "    \n",
      "    ticket_seats_list = []\n",
      "    for seats in ticket_seat:\n",
      "        seats = str(seats)\n",
      "        seats =seats.split(\",\")\n",
      "        ticket_seats_list.append(seats)\n",
      "\n",
      "   \n",
      "    #Create dictionary with data\n",
      "\n",
      "\n",
      "    \n",
      "    ticket_listing = {'id': ticket_id,\n",
      "                      'section':ticket_section,\n",
      "                      'row':ticket_row,\n",
      "                      'price': prices,\n",
      "                      'qt': ticket_qt ,\n",
      "                        'seats': ticket_seats_list}\n",
      "\n",
      "    ticket_listing_frame = pd.DataFrame(ticket_listing)\n",
      "    ticket_listing_frame.insert(0, 'query_time', current_time , allow_duplicates=False)\n",
      "    ticket_listing_frame.insert(0, 'event_id', event_id , allow_duplicates=False)\n",
      "    \n",
      "    s= ticket_listing_frame.seats.apply(pd.Series).unstack().reset_index(level=0, drop = True)\n",
      "    s.name = 'seat'\n",
      "    out = ticket_listing_frame.drop('seats', axis = 1).join(s)\n",
      "    out = out.dropna(subset=['seat'])\n",
      "    out = out.reset_index(drop=True)\n",
      "    \n",
      "    out.save('/Users/theblooms/Desktop/insight/data/%s-%s.pkl' %(event_id,current_time) ) \n",
      "\n",
      "\n"
     ],
     "language": "python",
     "metadata": {},
     "outputs": [],
     "prompt_number": 2
    },
    {
     "cell_type": "code",
     "collapsed": false,
     "input": [
      "import time\n",
      "import sys\n",
      "\n",
      "\n",
      "scrape_list =[\n",
      "4403427,\n",
      "4403428,\n",
      "4403249,\n",
      "4403250,\n",
      "4403431,\n",
      "4403432,\n",
      "4403433,\n",
      "4403433,\n",
      "4401228,\n",
      "4401230,\n",
      "4401232,\n",
      "4401234,\n",
      "4401236,\n",
      "4401237,\n",
      "4401238,\n",
      "4401239,\n",
      "4401240]\n",
      "num_saves=0\n",
      "\n",
      "while num_saves < 200:\n",
      "    for event in scrape_list:\n",
      "        try:\n",
      "            out = dl_tickets (event)\n",
      "        except:\n",
      "            print \"fail\"\n",
      "            sys.stdout.flush()\n",
      "        \n",
      "    num_saves +=1\n",
      "    time.sleep(3600*(1/6)) #scrape every 15 minutes"
     ],
     "language": "python",
     "metadata": {},
     "outputs": []
    },
    {
     "cell_type": "code",
     "collapsed": false,
     "input": [],
     "language": "python",
     "metadata": {},
     "outputs": [],
     "prompt_number": 14
    },
    {
     "cell_type": "code",
     "collapsed": false,
     "input": [],
     "language": "python",
     "metadata": {},
     "outputs": []
    },
    {
     "cell_type": "code",
     "collapsed": false,
     "input": [],
     "language": "python",
     "metadata": {},
     "outputs": [
      {
       "ename": "NameError",
       "evalue": "global name 'current_time' is not defined",
       "output_type": "pyerr",
       "traceback": [
        "\u001b[0;31m---------------------------------------------------------------------------\u001b[0m\n\u001b[0;31mNameError\u001b[0m                                 Traceback (most recent call last)",
        "\u001b[0;32m<ipython-input-7-ed903bd2c3d9>\u001b[0m in \u001b[0;36m<module>\u001b[0;34m()\u001b[0m\n\u001b[0;32m----> 1\u001b[0;31m \u001b[0mout\u001b[0m \u001b[0;34m=\u001b[0m \u001b[0mdl_tickets\u001b[0m \u001b[0;34m(\u001b[0m\u001b[0mevent\u001b[0m\u001b[0;34m)\u001b[0m\u001b[0;34m\u001b[0m\u001b[0m\n\u001b[0m",
        "\u001b[0;32m<ipython-input-3-cebc55ec436a>\u001b[0m in \u001b[0;36mdl_tickets\u001b[0;34m(event_id)\u001b[0m\n\u001b[1;32m     49\u001b[0m \u001b[0;34m\u001b[0m\u001b[0m\n\u001b[1;32m     50\u001b[0m     \u001b[0mticket_listing_frame\u001b[0m \u001b[0;34m=\u001b[0m \u001b[0mpd\u001b[0m\u001b[0;34m.\u001b[0m\u001b[0mDataFrame\u001b[0m\u001b[0;34m(\u001b[0m\u001b[0mticket_listing\u001b[0m\u001b[0;34m)\u001b[0m\u001b[0;34m\u001b[0m\u001b[0m\n\u001b[0;32m---> 51\u001b[0;31m     \u001b[0mticket_listing_frame\u001b[0m\u001b[0;34m.\u001b[0m\u001b[0minsert\u001b[0m\u001b[0;34m(\u001b[0m\u001b[0;36m0\u001b[0m\u001b[0;34m,\u001b[0m \u001b[0;34m'query_time'\u001b[0m\u001b[0;34m,\u001b[0m \u001b[0mcurrent_time\u001b[0m \u001b[0;34m,\u001b[0m \u001b[0mallow_duplicates\u001b[0m\u001b[0;34m=\u001b[0m\u001b[0mFalse\u001b[0m\u001b[0;34m)\u001b[0m\u001b[0;34m\u001b[0m\u001b[0m\n\u001b[0m\u001b[1;32m     52\u001b[0m     \u001b[0mticket_listing_frame\u001b[0m\u001b[0;34m.\u001b[0m\u001b[0minsert\u001b[0m\u001b[0;34m(\u001b[0m\u001b[0;36m0\u001b[0m\u001b[0;34m,\u001b[0m \u001b[0;34m'event_id'\u001b[0m\u001b[0;34m,\u001b[0m \u001b[0mevent_id\u001b[0m \u001b[0;34m,\u001b[0m \u001b[0mallow_duplicates\u001b[0m\u001b[0;34m=\u001b[0m\u001b[0mFalse\u001b[0m\u001b[0;34m)\u001b[0m\u001b[0;34m\u001b[0m\u001b[0m\n\u001b[1;32m     53\u001b[0m \u001b[0;34m\u001b[0m\u001b[0m\n",
        "\u001b[0;31mNameError\u001b[0m: global name 'current_time' is not defined"
       ]
      }
     ],
     "prompt_number": 7
    },
    {
     "cell_type": "code",
     "collapsed": false,
     "input": [
      "qt= out['qt']\n",
      "qt= [ int(x) for x in qt]\n",
      "qt[1]"
     ],
     "language": "python",
     "metadata": {},
     "outputs": [
      {
       "metadata": {},
       "output_type": "pyout",
       "prompt_number": 111,
       "text": [
        "4"
       ]
      }
     ],
     "prompt_number": 111
    },
    {
     "cell_type": "code",
     "collapsed": false,
     "input": [
      "for element in out:\n",
      "    if element == 'seats':\n",
      "        element = [val for sublist in element for val in sublist]\n",
      "#    else:\n",
      "#        for i in xrange(len(qt)):\n",
      "#          element=  [[j]*qt[i]  for j in element ]\n",
      "#          element = [val for sublist in element for val in sublist]  \n",
      "out          "
     ],
     "language": "python",
     "metadata": {},
     "outputs": []
    },
    {
     "cell_type": "code",
     "collapsed": false,
     "input": [
      "\n",
      "def make_long (ticketdata):\n",
      "    num_sales= len(ticketdata.index)\n",
      "    for i in xrange(num_sales):\n",
      "        obs_data = ticketdata.ix[i]\n",
      "        seats= obs_data['seats']\n",
      "        obs_data= obs_data.drop ('seats')\n",
      "        for seats in ticket_seat:\n",
      "            seats = str(seats)\n",
      "            seats =seats.split(\",\")\n",
      "            for seat in seats:\n",
      "                try:\n",
      "                    seat= int(float(seat))\n",
      "                    seat= pd.Series([seat],index=['seat'])\n",
      "                    seat_obs= obs_data.append(seat)\n",
      "                    out= pd.concat(seat_obs)\n",
      "                except:\n",
      "                    pass\n",
      "    return (num_sales)\n",
      "            \n"
     ],
     "language": "python",
     "metadata": {},
     "outputs": []
    },
    {
     "cell_type": "code",
     "collapsed": false,
     "input": [
      "[4]*4\n",
      "a=[1,2,3]\n",
      "[[i]*4  for i in a ]\n"
     ],
     "language": "python",
     "metadata": {},
     "outputs": [
      {
       "metadata": {},
       "output_type": "pyout",
       "prompt_number": 102,
       "text": [
        "[[1, 1, 1, 1], [2, 2, 2, 2], [3, 3, 3, 3]]"
       ]
      }
     ],
     "prompt_number": 102
    },
    {
     "cell_type": "code",
     "collapsed": false,
     "input": [
      "test_long = make_long(test_data)\n",
      "test_data.head()\n"
     ],
     "language": "python",
     "metadata": {},
     "outputs": []
    },
    {
     "cell_type": "code",
     "collapsed": false,
     "input": [],
     "language": "python",
     "metadata": {},
     "outputs": []
    },
    {
     "cell_type": "code",
     "collapsed": false,
     "input": [
      "temp = ticket_listing_frame.ix[1]\n",
      "a= temp['seats']\n",
      "temp= temp.drop('seats')\n",
      "\n",
      "print a\n",
      "print \"______\"\n",
      "print temp \n",
      "\n",
      "print \"________________\"\n",
      "\n",
      "test = pd.Series([1],index=['seat'])\n",
      "\n",
      "temp =temp.append( test)\n",
      "\n",
      "\n",
      "print temp\n",
      "\n"
     ],
     "language": "python",
     "metadata": {},
     "outputs": [
      {
       "output_type": "stream",
       "stream": "stdout",
       "text": [
        "1,2\n",
        "______\n",
        "query_time    13:15:38.837874\n",
        "id                 1109951953\n",
        "price                      24\n",
        "qt                          2\n",
        "row                         F\n",
        "section                 VB310\n",
        "Name: 1, dtype: object\n",
        "________________\n",
        "query_time    13:15:38.837874\n",
        "id                 1109951953\n",
        "price                      24\n",
        "qt                          2\n",
        "row                         F\n",
        "section                 VB310\n",
        "seat                        1\n",
        "dtype: object\n"
       ]
      }
     ],
     "prompt_number": 138
    },
    {
     "cell_type": "code",
     "collapsed": false,
     "input": [
      "is.string(seat)"
     ],
     "language": "python",
     "metadata": {},
     "outputs": [
      {
       "ename": "SyntaxError",
       "evalue": "invalid syntax (<ipython-input-77-c352c6b201be>, line 1)",
       "output_type": "pyerr",
       "traceback": [
        "\u001b[0;36m  File \u001b[0;32m\"<ipython-input-77-c352c6b201be>\"\u001b[0;36m, line \u001b[0;32m1\u001b[0m\n\u001b[0;31m    is.string(seat)\u001b[0m\n\u001b[0m     ^\u001b[0m\n\u001b[0;31mSyntaxError\u001b[0m\u001b[0;31m:\u001b[0m invalid syntax\n"
       ]
      }
     ],
     "prompt_number": 77
    },
    {
     "cell_type": "code",
     "collapsed": false,
     "input": [
      "string(seat)"
     ],
     "language": "python",
     "metadata": {},
     "outputs": [
      {
       "ename": "NameError",
       "evalue": "name 'string' is not defined",
       "output_type": "pyerr",
       "traceback": [
        "\u001b[0;31m---------------------------------------------------------------------------\u001b[0m\n\u001b[0;31mNameError\u001b[0m                                 Traceback (most recent call last)",
        "\u001b[0;32m<ipython-input-78-79b92fb13a72>\u001b[0m in \u001b[0;36m<module>\u001b[0;34m()\u001b[0m\n\u001b[0;32m----> 1\u001b[0;31m \u001b[0mstring\u001b[0m\u001b[0;34m(\u001b[0m\u001b[0mseat\u001b[0m\u001b[0;34m)\u001b[0m\u001b[0;34m\u001b[0m\u001b[0m\n\u001b[0m",
        "\u001b[0;31mNameError\u001b[0m: name 'string' is not defined"
       ]
      }
     ],
     "prompt_number": 78
    },
    {
     "cell_type": "code",
     "collapsed": false,
     "input": [
      "str(seat)"
     ],
     "language": "python",
     "metadata": {},
     "outputs": [
      {
       "metadata": {},
       "output_type": "pyout",
       "prompt_number": 79,
       "text": [
        "'17,18'"
       ]
      }
     ],
     "prompt_number": 79
    },
    {
     "cell_type": "code",
     "collapsed": false,
     "input": [
      "seat.split(\",\")"
     ],
     "language": "python",
     "metadata": {},
     "outputs": [
      {
       "metadata": {},
       "output_type": "pyout",
       "prompt_number": 83,
       "text": [
        "['17', '18']"
       ]
      }
     ],
     "prompt_number": 83
    },
    {
     "cell_type": "code",
     "collapsed": false,
     "input": [
      "ticket_listing_frame.rows()\n"
     ],
     "language": "python",
     "metadata": {},
     "outputs": [
      {
       "ename": "AttributeError",
       "evalue": "'DataFrame' object has no attribute 'rows'",
       "output_type": "pyerr",
       "traceback": [
        "\u001b[0;31m---------------------------------------------------------------------------\u001b[0m\n\u001b[0;31mAttributeError\u001b[0m                            Traceback (most recent call last)",
        "\u001b[0;32m<ipython-input-89-b6c196828a18>\u001b[0m in \u001b[0;36m<module>\u001b[0;34m()\u001b[0m\n\u001b[0;32m----> 1\u001b[0;31m \u001b[0mticket_listing_frame\u001b[0m\u001b[0;34m.\u001b[0m\u001b[0mrows\u001b[0m\u001b[0;34m(\u001b[0m\u001b[0;34m)\u001b[0m\u001b[0;34m\u001b[0m\u001b[0m\n\u001b[0m",
        "\u001b[0;32m/Users/theblooms/Library/Enthought/Canopy_64bit/User/lib/python2.7/site-packages/pandas/core/generic.pyc\u001b[0m in \u001b[0;36m__getattr__\u001b[0;34m(self, name)\u001b[0m\n\u001b[1;32m   1841\u001b[0m                 \u001b[0;32mreturn\u001b[0m \u001b[0mself\u001b[0m\u001b[0;34m[\u001b[0m\u001b[0mname\u001b[0m\u001b[0;34m]\u001b[0m\u001b[0;34m\u001b[0m\u001b[0m\n\u001b[1;32m   1842\u001b[0m             raise AttributeError(\"'%s' object has no attribute '%s'\" %\n\u001b[0;32m-> 1843\u001b[0;31m                                  (type(self).__name__, name))\n\u001b[0m\u001b[1;32m   1844\u001b[0m \u001b[0;34m\u001b[0m\u001b[0m\n\u001b[1;32m   1845\u001b[0m     \u001b[0;32mdef\u001b[0m \u001b[0m__setattr__\u001b[0m\u001b[0;34m(\u001b[0m\u001b[0mself\u001b[0m\u001b[0;34m,\u001b[0m \u001b[0mname\u001b[0m\u001b[0;34m,\u001b[0m \u001b[0mvalue\u001b[0m\u001b[0;34m)\u001b[0m\u001b[0;34m:\u001b[0m\u001b[0;34m\u001b[0m\u001b[0m\n",
        "\u001b[0;31mAttributeError\u001b[0m: 'DataFrame' object has no attribute 'rows'"
       ]
      }
     ],
     "prompt_number": 89
    },
    {
     "cell_type": "code",
     "collapsed": false,
     "input": [],
     "language": "python",
     "metadata": {},
     "outputs": []
    }
   ],
   "metadata": {}
  }
 ]
}
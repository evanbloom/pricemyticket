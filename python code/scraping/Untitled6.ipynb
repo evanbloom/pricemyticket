{
 "metadata": {
  "name": "",
  "signature": "sha256:fd1ed45231ed9ba3a28158ec89085a316c4c8d9d075b5a66bfa5d44dae3858bf"
 },
 "nbformat": 3,
 "nbformat_minor": 0,
 "worksheets": [
  {
   "cells": [
    {
     "cell_type": "code",
     "collapsed": false,
     "input": [
      "The string \"PAYPALISHIRING\" is written in a zigzag pattern on a given number of rows like this: (you may want to display this pattern in a fixed font for better legibility)\n",
      "\n",
      "P   A   H   N\n",
      "A P L S I I G\n",
      "Y   I   R\n",
      "And then read line by line: \"PAHNAPLSIIGYIR\"\n",
      "Write the code that will take a string and make this conversion given a number of rows:\n",
      "\n",
      "string convert(string text, int nRows);\n",
      "convert(\"PAYPALISHIRING\", 3) should return \"PAHNAPLSIIGYIR\"."
     ],
     "language": "python",
     "metadata": {},
     "outputs": []
    },
    {
     "cell_type": "code",
     "collapsed": false,
     "input": [
      "def convert (aStr,nRows):\n",
      "    matrix = []\n",
      "    for i in range(nRows):\n",
      "        matrix.append([])\n",
      "    move= 1\n",
      "    row_count = 0\n",
      "    for letter in aStr:\n",
      "        print letter, row_count\n",
      "        matrix[row_count].append(letter)\n",
      "        row_count +=move\n",
      "        if row_count==(nRows-1):\n",
      "            move=-1\n",
      "        if row_count==0:\n",
      "            move= 1\n",
      "    out =\"\"\n",
      "    for i in range(nRows):\n",
      "        for j in matrix[i]:\n",
      "            out = out+j\n",
      "    return out"
     ],
     "language": "python",
     "metadata": {},
     "outputs": [],
     "prompt_number": 11
    },
    {
     "cell_type": "code",
     "collapsed": false,
     "input": [
      "convert(\"PAYPALISHIRING\", 4)"
     ],
     "language": "python",
     "metadata": {},
     "outputs": [
      {
       "output_type": "stream",
       "stream": "stdout",
       "text": [
        "P 0\n",
        "A 1\n",
        "Y 2\n",
        "P 3\n",
        "A 2\n",
        "L 1\n",
        "I 0\n",
        "S 1\n",
        "H 2\n",
        "I 3\n",
        "R 2\n",
        "I 1\n",
        "N 0\n",
        "G 1\n"
       ]
      },
      {
       "metadata": {},
       "output_type": "pyout",
       "prompt_number": 13,
       "text": [
        "'PINALSIGYAHRPI'"
       ]
      }
     ],
     "prompt_number": 13
    },
    {
     "cell_type": "code",
     "collapsed": false,
     "input": [
      "def fill_spiral (n):\n",
      "    \n",
      "    matrix=[]\n",
      "    for i in range(n):\n",
      "        matrix.append([0]*n)\n",
      "    x=0\n",
      "    y=0 \n",
      "    move_x = 1\n",
      "    move_y = 0\n",
      "    max_x= n\n",
      "    max_y= n\n",
      "    x_count=0\n",
      "    y_count=0\n",
      "    \n",
      "    for i in range(1,n**2+1):\n",
      "        #print i, x, y\n",
      "        matrix[y][x] = i\n",
      "        x_count += move_x\n",
      "        y_count += move_y\n",
      "        \n",
      "        if x_count == max_x:\n",
      "            #print \"turn down\"\n",
      "            x_count=0\n",
      "            max_y += -1\n",
      "            move_x = 0\n",
      "            move_y = 1\n",
      "        \n",
      "        if y_count == max_y:\n",
      "            #print \"turn back\"\n",
      "            y_count=0\n",
      "            max_x += -1\n",
      "            move_x = -1\n",
      "            move_y = 0 \n",
      "    \n",
      "        if x_count == -max_x:\n",
      "            #print \"turn up\"\n",
      "            x_count=0\n",
      "            max_y += -1\n",
      "            move_x = 0\n",
      "            move_y = -1 \n",
      "    \n",
      "        if y_count == -max_y:\n",
      "            #print \"turn forward\"\n",
      "            y_count=0\n",
      "            max_x += -1\n",
      "            move_x = 1\n",
      "            move_y = 0 \n",
      "    \n",
      "        x= x + move_x\n",
      "        y= y + move_y\n",
      "\n",
      "    for row in matrix:\n",
      "        print row\n",
      "        "
     ],
     "language": "python",
     "metadata": {},
     "outputs": [],
     "prompt_number": 56
    },
    {
     "cell_type": "code",
     "collapsed": false,
     "input": [
      "fill_spiral (30)"
     ],
     "language": "python",
     "metadata": {},
     "outputs": [
      {
       "output_type": "stream",
       "stream": "stdout",
       "text": [
        "[1, 2, 3, 4, 5, 6, 7, 8, 9, 10, 11, 12, 13, 14, 15, 16, 17, 18, 19, 20, 21, 22, 23, 24, 25, 26, 27, 28, 29, 30]\n",
        "[116, 117, 118, 119, 120, 121, 122, 123, 124, 125, 126, 127, 128, 129, 130, 131, 132, 133, 134, 135, 136, 137, 138, 139, 140, 141, 142, 143, 144, 31]\n",
        "[115, 224, 225, 226, 227, 228, 229, 230, 231, 232, 233, 234, 235, 236, 237, 238, 239, 240, 241, 242, 243, 244, 245, 246, 247, 248, 249, 250, 145, 32]\n",
        "[114, 223, 324, 325, 326, 327, 328, 329, 330, 331, 332, 333, 334, 335, 336, 337, 338, 339, 340, 341, 342, 343, 344, 345, 346, 347, 348, 251, 146, 33]\n",
        "[113, 222, 323, 416, 417, 418, 419, 420, 421, 422, 423, 424, 425, 426, 427, 428, 429, 430, 431, 432, 433, 434, 435, 436, 437, 438, 349, 252, 147, 34]\n",
        "[112, 221, 322, 415, 500, 501, 502, 503, 504, 505, 506, 507, 508, 509, 510, 511, 512, 513, 514, 515, 516, 517, 518, 519, 520, 439, 350, 253, 148, 35]\n",
        "[111, 220, 321, 414, 499, 576, 577, 578, 579, 580, 581, 582, 583, 584, 585, 586, 587, 588, 589, 590, 591, 592, 593, 594, 521, 440, 351, 254, 149, 36]\n",
        "[110, 219, 320, 413, 498, 575, 644, 645, 646, 647, 648, 649, 650, 651, 652, 653, 654, 655, 656, 657, 658, 659, 660, 595, 522, 441, 352, 255, 150, 37]\n",
        "[109, 218, 319, 412, 497, 574, 643, 704, 705, 706, 707, 708, 709, 710, 711, 712, 713, 714, 715, 716, 717, 718, 661, 596, 523, 442, 353, 256, 151, 38]\n",
        "[108, 217, 318, 411, 496, 573, 642, 703, 756, 757, 758, 759, 760, 761, 762, 763, 764, 765, 766, 767, 768, 719, 662, 597, 524, 443, 354, 257, 152, 39]\n",
        "[107, 216, 317, 410, 495, 572, 641, 702, 755, 800, 801, 802, 803, 804, 805, 806, 807, 808, 809, 810, 769, 720, 663, 598, 525, 444, 355, 258, 153, 40]\n",
        "[106, 215, 316, 409, 494, 571, 640, 701, 754, 799, 836, 837, 838, 839, 840, 841, 842, 843, 844, 811, 770, 721, 664, 599, 526, 445, 356, 259, 154, 41]\n",
        "[105, 214, 315, 408, 493, 570, 639, 700, 753, 798, 835, 864, 865, 866, 867, 868, 869, 870, 845, 812, 771, 722, 665, 600, 527, 446, 357, 260, 155, 42]\n",
        "[104, 213, 314, 407, 492, 569, 638, 699, 752, 797, 834, 863, 884, 885, 886, 887, 888, 871, 846, 813, 772, 723, 666, 601, 528, 447, 358, 261, 156, 43]\n",
        "[103, 212, 313, 406, 491, 568, 637, 698, 751, 796, 833, 862, 883, 896, 897, 898, 889, 872, 847, 814, 773, 724, 667, 602, 529, 448, 359, 262, 157, 44]\n",
        "[102, 211, 312, 405, 490, 567, 636, 697, 750, 795, 832, 861, 882, 895, 900, 899, 890, 873, 848, 815, 774, 725, 668, 603, 530, 449, 360, 263, 158, 45]\n",
        "[101, 210, 311, 404, 489, 566, 635, 696, 749, 794, 831, 860, 881, 894, 893, 892, 891, 874, 849, 816, 775, 726, 669, 604, 531, 450, 361, 264, 159, 46]\n",
        "[100, 209, 310, 403, 488, 565, 634, 695, 748, 793, 830, 859, 880, 879, 878, 877, 876, 875, 850, 817, 776, 727, 670, 605, 532, 451, 362, 265, 160, 47]\n",
        "[99, 208, 309, 402, 487, 564, 633, 694, 747, 792, 829, 858, 857, 856, 855, 854, 853, 852, 851, 818, 777, 728, 671, 606, 533, 452, 363, 266, 161, 48]\n",
        "[98, 207, 308, 401, 486, 563, 632, 693, 746, 791, 828, 827, 826, 825, 824, 823, 822, 821, 820, 819, 778, 729, 672, 607, 534, 453, 364, 267, 162, 49]\n",
        "[97, 206, 307, 400, 485, 562, 631, 692, 745, 790, 789, 788, 787, 786, 785, 784, 783, 782, 781, 780, 779, 730, 673, 608, 535, 454, 365, 268, 163, 50]\n",
        "[96, 205, 306, 399, 484, 561, 630, 691, 744, 743, 742, 741, 740, 739, 738, 737, 736, 735, 734, 733, 732, 731, 674, 609, 536, 455, 366, 269, 164, 51]\n",
        "[95, 204, 305, 398, 483, 560, 629, 690, 689, 688, 687, 686, 685, 684, 683, 682, 681, 680, 679, 678, 677, 676, 675, 610, 537, 456, 367, 270, 165, 52]\n",
        "[94, 203, 304, 397, 482, 559, 628, 627, 626, 625, 624, 623, 622, 621, 620, 619, 618, 617, 616, 615, 614, 613, 612, 611, 538, 457, 368, 271, 166, 53]\n",
        "[93, 202, 303, 396, 481, 558, 557, 556, 555, 554, 553, 552, 551, 550, 549, 548, 547, 546, 545, 544, 543, 542, 541, 540, 539, 458, 369, 272, 167, 54]\n",
        "[92, 201, 302, 395, 480, 479, 478, 477, 476, 475, 474, 473, 472, 471, 470, 469, 468, 467, 466, 465, 464, 463, 462, 461, 460, 459, 370, 273, 168, 55]\n",
        "[91, 200, 301, 394, 393, 392, 391, 390, 389, 388, 387, 386, 385, 384, 383, 382, 381, 380, 379, 378, 377, 376, 375, 374, 373, 372, 371, 274, 169, 56]\n",
        "[90, 199, 300, 299, 298, 297, 296, 295, 294, 293, 292, 291, 290, 289, 288, 287, 286, 285, 284, 283, 282, 281, 280, 279, 278, 277, 276, 275, 170, 57]\n",
        "[89, 198, 197, 196, 195, 194, 193, 192, 191, 190, 189, 188, 187, 186, 185, 184, 183, 182, 181, 180, 179, 178, 177, 176, 175, 174, 173, 172, 171, 58]\n",
        "[88, 87, 86, 85, 84, 83, 82, 81, 80, 79, 78, 77, 76, 75, 74, 73, 72, 71, 70, 69, 68, 67, 66, 65, 64, 63, 62, 61, 60, 59]\n"
       ]
      }
     ],
     "prompt_number": 62
    },
    {
     "cell_type": "code",
     "collapsed": false,
     "input": [
      "n=5\n",
      "matrix=[]\n",
      "for i in range(n):\n",
      "    matrix.append([0]*n)\n",
      "matrix"
     ],
     "language": "python",
     "metadata": {},
     "outputs": [
      {
       "metadata": {},
       "output_type": "pyout",
       "prompt_number": 26,
       "text": [
        "[[0, 0, 0, 0, 0],\n",
        " [0, 0, 0, 0, 0],\n",
        " [0, 0, 0, 0, 0],\n",
        " [0, 0, 0, 0, 0],\n",
        " [0, 0, 0, 0, 0]]"
       ]
      }
     ],
     "prompt_number": 26
    },
    {
     "cell_type": "code",
     "collapsed": false,
     "input": [
      "matrix[0][0]=5"
     ],
     "language": "python",
     "metadata": {},
     "outputs": [],
     "prompt_number": 29
    },
    {
     "cell_type": "code",
     "collapsed": false,
     "input": [
      "matrix"
     ],
     "language": "python",
     "metadata": {},
     "outputs": [
      {
       "metadata": {},
       "output_type": "pyout",
       "prompt_number": 30,
       "text": [
        "[[5, 0, 0, 0, 0],\n",
        " [0, 1, 0, 0, 0],\n",
        " [0, 0, 0, 0, 0],\n",
        " [0, 0, 0, 0, 0],\n",
        " [0, 0, 0, 0, 0]]"
       ]
      }
     ],
     "prompt_number": 30
    },
    {
     "cell_type": "code",
     "collapsed": false,
     "input": [
      "Given a sorted array and a target value, return the index if the target is found. If not, return the index where it would be if it were inserted in order.\n",
      "\n",
      "You may assume no duplicates in the array.\n",
      "\n",
      "Here are few examples.\n",
      "[1,3,5,6], 5 \u2192 2\n",
      "[1,3,5,6], 2 \u2192 1\n",
      "[1,3,5,6], 7 \u2192 4\n",
      "[1,3,5,6], 0 \u2192 0"
     ],
     "language": "python",
     "metadata": {},
     "outputs": []
    },
    {
     "cell_type": "code",
     "collapsed": false,
     "input": [
      "def insert_index (insert,aList):\n",
      "    for i in range(len(aList)):\n",
      "        first= aList[i]\n",
      "        if i==0 and first>= insert:\n",
      "            return i\n",
      "        elif i== len(aList)-1:\n",
      "            return len(aList)\n",
      "        elif first== insert:\n",
      "            return i\n",
      "        else:\n",
      "            second=aList[i+1]\n",
      "            if insert > first and insert <second:\n",
      "                return (i+1)\n",
      "        "
     ],
     "language": "python",
     "metadata": {},
     "outputs": [],
     "prompt_number": 68
    },
    {
     "cell_type": "code",
     "collapsed": false,
     "input": [
      "def insert_index_b (insert,aList):\n",
      "    check_index == len(aList)//2\n",
      "    \n",
      "    if aList[check_index]==insert:\n",
      "        return check_index\n",
      "    elif aList[check_index]< insert:\n",
      "        check_index == check_index//2\n",
      "    else:\n"
     ],
     "language": "python",
     "metadata": {},
     "outputs": []
    },
    {
     "cell_type": "code",
     "collapsed": false,
     "input": [
      "insert_index (3,[1,2,4,6,7])"
     ],
     "language": "python",
     "metadata": {},
     "outputs": [
      {
       "metadata": {},
       "output_type": "pyout",
       "prompt_number": 75,
       "text": [
        "2"
       ]
      }
     ],
     "prompt_number": 75
    },
    {
     "cell_type": "code",
     "collapsed": false,
     "input": [],
     "language": "python",
     "metadata": {},
     "outputs": []
    },
    {
     "cell_type": "code",
     "collapsed": false,
     "input": [],
     "language": "python",
     "metadata": {},
     "outputs": []
    },
    {
     "cell_type": "code",
     "collapsed": false,
     "input": [
      "Write a program to solve the following problem: \n",
      "You have two jugs: a 4-gallon jug and a 3-gallon jug. \n",
      "Neither of the jugs have markings on them. \n",
      "There is a pump that can be used to fill the jugs with water. \n",
      "How can you get exactly two gallons of water in the 4-gallon jug?\n",
      "\n",
      "\n",
      "                4 gallon   3 gallon  total\n",
      "                    0           0\n",
      "fill big            4           0\n",
      "pour big to small   1           3\n",
      "dump small          1           0\n",
      "pour big to small   0           1\n",
      "fill big            4           1\n",
      "pour big to small   2           3\n",
      "\n",
      "\n",
      "\n",
      "\n",
      "\n",
      "\n",
      "\n",
      "\n"
     ],
     "language": "python",
     "metadata": {},
     "outputs": []
    },
    {
     "cell_type": "code",
     "collapsed": false,
     "input": [
      "def fill_buckets (target, small, bigger):\n",
      "    in_big= 0\n",
      "    in_small =0\n",
      "    total_volume = in_big + in_small\n",
      "    \n",
      "\n",
      "    \n",
      "    \n",
      "    "
     ],
     "language": "python",
     "metadata": {},
     "outputs": []
    }
   ],
   "metadata": {}
  }
 ]
}
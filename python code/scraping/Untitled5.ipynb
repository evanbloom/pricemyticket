{
 "metadata": {
  "name": "",
  "signature": "sha256:9e8cbd4ad4ffdf0324d0d9b2986dd55c3c80906cf145d8eeb3a149533b0f6de6"
 },
 "nbformat": 3,
 "nbformat_minor": 0,
 "worksheets": [
  {
   "cells": [
    {
     "cell_type": "code",
     "collapsed": false,
     "input": [
      "import pandas as pd"
     ],
     "language": "python",
     "metadata": {},
     "outputs": [
      {
       "output_type": "stream",
       "stream": "stderr",
       "text": [
        "/Users/theblooms/Library/Enthought/Canopy_64bit/User/lib/python2.7/site-packages/pandas/io/excel.py:626: UserWarning: Installed openpyxl is not supported at this time. Use >=1.6.1 and <2.0.0.\n",
        "  .format(openpyxl_compat.start_ver, openpyxl_compat.stop_ver))\n"
       ]
      }
     ],
     "prompt_number": 3
    },
    {
     "cell_type": "code",
     "collapsed": false,
     "input": [
      "len([12,14,12,11,15,30,11,20,19])"
     ],
     "language": "python",
     "metadata": {},
     "outputs": [
      {
       "metadata": {},
       "output_type": "pyout",
       "prompt_number": 47,
       "text": [
        "9"
       ]
      }
     ],
     "prompt_number": 47
    },
    {
     "cell_type": "code",
     "collapsed": false,
     "input": [
      "test_data= pd.DataFrame({'deck': [1,1,3,3,3,1,1,1,1,1],\n",
      "           'section': [12,17,18,19,11,13,11,23,10,9],\n",
      "           'row': [1,2,4,5,6,1,1,1,1,1],\n",
      "           'seat':[1,1,1,1,1,1,1,1,1,1],\n",
      "           'price': [12,14,12,11,15,30,11,20,19,14]\n",
      "           })"
     ],
     "language": "python",
     "metadata": {},
     "outputs": [],
     "prompt_number": 48
    },
    {
     "cell_type": "code",
     "collapsed": false,
     "input": [
      "len([1,1,1,1,1,1,1,1,1,1])"
     ],
     "language": "python",
     "metadata": {},
     "outputs": [
      {
       "metadata": {},
       "output_type": "pyout",
       "prompt_number": 39,
       "text": [
        "11"
       ]
      }
     ],
     "prompt_number": 39
    },
    {
     "cell_type": "code",
     "collapsed": false,
     "input": [
      "abs(4-5)"
     ],
     "language": "python",
     "metadata": {},
     "outputs": [
      {
       "metadata": {},
       "output_type": "pyout",
       "prompt_number": 35,
       "text": [
        "1"
       ]
      }
     ],
     "prompt_number": 35
    },
    {
     "cell_type": "code",
     "collapsed": false,
     "input": [
      "nodes=[]\n",
      "for i in range(len(test_data)):\n",
      "    out = {\"deck\": test_data.ix[i,'deck'],\n",
      "           \"section\": test_data.ix[i,'section'],\n",
      "           \"row\": test_data.ix[i,'row'],\n",
      "           \"seat\": test_data.ix[i,'seat'],\n",
      "           \"price\": test_data.ix[i,'price']\n",
      "           }\n",
      "    nodes.append(out )"
     ],
     "language": "python",
     "metadata": {},
     "outputs": [],
     "prompt_number": 49
    },
    {
     "cell_type": "code",
     "collapsed": false,
     "input": [
      "nodes"
     ],
     "language": "python",
     "metadata": {},
     "outputs": [
      {
       "metadata": {},
       "output_type": "pyout",
       "prompt_number": 50,
       "text": [
        "[{'deck': 1, 'price': 12, 'row': 1, 'seat': 1, 'section': 12},\n",
        " {'deck': 1, 'price': 14, 'row': 2, 'seat': 1, 'section': 17},\n",
        " {'deck': 3, 'price': 12, 'row': 4, 'seat': 1, 'section': 18},\n",
        " {'deck': 3, 'price': 11, 'row': 5, 'seat': 1, 'section': 19},\n",
        " {'deck': 3, 'price': 15, 'row': 6, 'seat': 1, 'section': 11},\n",
        " {'deck': 1, 'price': 30, 'row': 1, 'seat': 1, 'section': 13},\n",
        " {'deck': 1, 'price': 11, 'row': 1, 'seat': 1, 'section': 11},\n",
        " {'deck': 1, 'price': 20, 'row': 1, 'seat': 1, 'section': 23},\n",
        " {'deck': 1, 'price': 19, 'row': 1, 'seat': 1, 'section': 10},\n",
        " {'deck': 1, 'price': 14, 'row': 1, 'seat': 1, 'section': 9}]"
       ]
      }
     ],
     "prompt_number": 50
    },
    {
     "cell_type": "code",
     "collapsed": false,
     "input": [
      "links=[]\n",
      "\n",
      "for i in range(len(test_data)):\n",
      "    for j in range  (len(test_data)):\n",
      "        out= {\"source\": i,\n",
      "         \"target\":j,\n",
      "         \"value\": abs(test_data.ix[i,'price']-test_data.ix[j,'price'])}\n",
      "        links.append(out)"
     ],
     "language": "python",
     "metadata": {},
     "outputs": [],
     "prompt_number": 51
    },
    {
     "cell_type": "code",
     "collapsed": false,
     "input": [
      "links"
     ],
     "language": "python",
     "metadata": {},
     "outputs": [
      {
       "metadata": {},
       "output_type": "pyout",
       "prompt_number": 52,
       "text": [
        "[{'source': 0, 'target': 0, 'value': 0},\n",
        " {'source': 0, 'target': 1, 'value': 2},\n",
        " {'source': 0, 'target': 2, 'value': 0},\n",
        " {'source': 0, 'target': 3, 'value': 1},\n",
        " {'source': 0, 'target': 4, 'value': 3},\n",
        " {'source': 0, 'target': 5, 'value': 18},\n",
        " {'source': 0, 'target': 6, 'value': 1},\n",
        " {'source': 0, 'target': 7, 'value': 8},\n",
        " {'source': 0, 'target': 8, 'value': 7},\n",
        " {'source': 0, 'target': 9, 'value': 2},\n",
        " {'source': 1, 'target': 0, 'value': 2},\n",
        " {'source': 1, 'target': 1, 'value': 0},\n",
        " {'source': 1, 'target': 2, 'value': 2},\n",
        " {'source': 1, 'target': 3, 'value': 3},\n",
        " {'source': 1, 'target': 4, 'value': 1},\n",
        " {'source': 1, 'target': 5, 'value': 16},\n",
        " {'source': 1, 'target': 6, 'value': 3},\n",
        " {'source': 1, 'target': 7, 'value': 6},\n",
        " {'source': 1, 'target': 8, 'value': 5},\n",
        " {'source': 1, 'target': 9, 'value': 0},\n",
        " {'source': 2, 'target': 0, 'value': 0},\n",
        " {'source': 2, 'target': 1, 'value': 2},\n",
        " {'source': 2, 'target': 2, 'value': 0},\n",
        " {'source': 2, 'target': 3, 'value': 1},\n",
        " {'source': 2, 'target': 4, 'value': 3},\n",
        " {'source': 2, 'target': 5, 'value': 18},\n",
        " {'source': 2, 'target': 6, 'value': 1},\n",
        " {'source': 2, 'target': 7, 'value': 8},\n",
        " {'source': 2, 'target': 8, 'value': 7},\n",
        " {'source': 2, 'target': 9, 'value': 2},\n",
        " {'source': 3, 'target': 0, 'value': 1},\n",
        " {'source': 3, 'target': 1, 'value': 3},\n",
        " {'source': 3, 'target': 2, 'value': 1},\n",
        " {'source': 3, 'target': 3, 'value': 0},\n",
        " {'source': 3, 'target': 4, 'value': 4},\n",
        " {'source': 3, 'target': 5, 'value': 19},\n",
        " {'source': 3, 'target': 6, 'value': 0},\n",
        " {'source': 3, 'target': 7, 'value': 9},\n",
        " {'source': 3, 'target': 8, 'value': 8},\n",
        " {'source': 3, 'target': 9, 'value': 3},\n",
        " {'source': 4, 'target': 0, 'value': 3},\n",
        " {'source': 4, 'target': 1, 'value': 1},\n",
        " {'source': 4, 'target': 2, 'value': 3},\n",
        " {'source': 4, 'target': 3, 'value': 4},\n",
        " {'source': 4, 'target': 4, 'value': 0},\n",
        " {'source': 4, 'target': 5, 'value': 15},\n",
        " {'source': 4, 'target': 6, 'value': 4},\n",
        " {'source': 4, 'target': 7, 'value': 5},\n",
        " {'source': 4, 'target': 8, 'value': 4},\n",
        " {'source': 4, 'target': 9, 'value': 1},\n",
        " {'source': 5, 'target': 0, 'value': 18},\n",
        " {'source': 5, 'target': 1, 'value': 16},\n",
        " {'source': 5, 'target': 2, 'value': 18},\n",
        " {'source': 5, 'target': 3, 'value': 19},\n",
        " {'source': 5, 'target': 4, 'value': 15},\n",
        " {'source': 5, 'target': 5, 'value': 0},\n",
        " {'source': 5, 'target': 6, 'value': 19},\n",
        " {'source': 5, 'target': 7, 'value': 10},\n",
        " {'source': 5, 'target': 8, 'value': 11},\n",
        " {'source': 5, 'target': 9, 'value': 16},\n",
        " {'source': 6, 'target': 0, 'value': 1},\n",
        " {'source': 6, 'target': 1, 'value': 3},\n",
        " {'source': 6, 'target': 2, 'value': 1},\n",
        " {'source': 6, 'target': 3, 'value': 0},\n",
        " {'source': 6, 'target': 4, 'value': 4},\n",
        " {'source': 6, 'target': 5, 'value': 19},\n",
        " {'source': 6, 'target': 6, 'value': 0},\n",
        " {'source': 6, 'target': 7, 'value': 9},\n",
        " {'source': 6, 'target': 8, 'value': 8},\n",
        " {'source': 6, 'target': 9, 'value': 3},\n",
        " {'source': 7, 'target': 0, 'value': 8},\n",
        " {'source': 7, 'target': 1, 'value': 6},\n",
        " {'source': 7, 'target': 2, 'value': 8},\n",
        " {'source': 7, 'target': 3, 'value': 9},\n",
        " {'source': 7, 'target': 4, 'value': 5},\n",
        " {'source': 7, 'target': 5, 'value': 10},\n",
        " {'source': 7, 'target': 6, 'value': 9},\n",
        " {'source': 7, 'target': 7, 'value': 0},\n",
        " {'source': 7, 'target': 8, 'value': 1},\n",
        " {'source': 7, 'target': 9, 'value': 6},\n",
        " {'source': 8, 'target': 0, 'value': 7},\n",
        " {'source': 8, 'target': 1, 'value': 5},\n",
        " {'source': 8, 'target': 2, 'value': 7},\n",
        " {'source': 8, 'target': 3, 'value': 8},\n",
        " {'source': 8, 'target': 4, 'value': 4},\n",
        " {'source': 8, 'target': 5, 'value': 11},\n",
        " {'source': 8, 'target': 6, 'value': 8},\n",
        " {'source': 8, 'target': 7, 'value': 1},\n",
        " {'source': 8, 'target': 8, 'value': 0},\n",
        " {'source': 8, 'target': 9, 'value': 5},\n",
        " {'source': 9, 'target': 0, 'value': 2},\n",
        " {'source': 9, 'target': 1, 'value': 0},\n",
        " {'source': 9, 'target': 2, 'value': 2},\n",
        " {'source': 9, 'target': 3, 'value': 3},\n",
        " {'source': 9, 'target': 4, 'value': 1},\n",
        " {'source': 9, 'target': 5, 'value': 16},\n",
        " {'source': 9, 'target': 6, 'value': 3},\n",
        " {'source': 9, 'target': 7, 'value': 6},\n",
        " {'source': 9, 'target': 8, 'value': 5},\n",
        " {'source': 9, 'target': 9, 'value': 0}]"
       ]
      }
     ],
     "prompt_number": 52
    },
    {
     "cell_type": "code",
     "collapsed": false,
     "input": [
      "fake_data = {\"nodes\": nodes, \"links\":links}"
     ],
     "language": "python",
     "metadata": {},
     "outputs": [],
     "prompt_number": 53
    },
    {
     "cell_type": "code",
     "collapsed": false,
     "input": [
      "fake_data"
     ],
     "language": "python",
     "metadata": {},
     "outputs": [
      {
       "metadata": {},
       "output_type": "pyout",
       "prompt_number": 54,
       "text": [
        "{'links': [{'source': 0, 'target': 0, 'value': 0},\n",
        "  {'source': 0, 'target': 1, 'value': 2},\n",
        "  {'source': 0, 'target': 2, 'value': 0},\n",
        "  {'source': 0, 'target': 3, 'value': 1},\n",
        "  {'source': 0, 'target': 4, 'value': 3},\n",
        "  {'source': 0, 'target': 5, 'value': 18},\n",
        "  {'source': 0, 'target': 6, 'value': 1},\n",
        "  {'source': 0, 'target': 7, 'value': 8},\n",
        "  {'source': 0, 'target': 8, 'value': 7},\n",
        "  {'source': 0, 'target': 9, 'value': 2},\n",
        "  {'source': 1, 'target': 0, 'value': 2},\n",
        "  {'source': 1, 'target': 1, 'value': 0},\n",
        "  {'source': 1, 'target': 2, 'value': 2},\n",
        "  {'source': 1, 'target': 3, 'value': 3},\n",
        "  {'source': 1, 'target': 4, 'value': 1},\n",
        "  {'source': 1, 'target': 5, 'value': 16},\n",
        "  {'source': 1, 'target': 6, 'value': 3},\n",
        "  {'source': 1, 'target': 7, 'value': 6},\n",
        "  {'source': 1, 'target': 8, 'value': 5},\n",
        "  {'source': 1, 'target': 9, 'value': 0},\n",
        "  {'source': 2, 'target': 0, 'value': 0},\n",
        "  {'source': 2, 'target': 1, 'value': 2},\n",
        "  {'source': 2, 'target': 2, 'value': 0},\n",
        "  {'source': 2, 'target': 3, 'value': 1},\n",
        "  {'source': 2, 'target': 4, 'value': 3},\n",
        "  {'source': 2, 'target': 5, 'value': 18},\n",
        "  {'source': 2, 'target': 6, 'value': 1},\n",
        "  {'source': 2, 'target': 7, 'value': 8},\n",
        "  {'source': 2, 'target': 8, 'value': 7},\n",
        "  {'source': 2, 'target': 9, 'value': 2},\n",
        "  {'source': 3, 'target': 0, 'value': 1},\n",
        "  {'source': 3, 'target': 1, 'value': 3},\n",
        "  {'source': 3, 'target': 2, 'value': 1},\n",
        "  {'source': 3, 'target': 3, 'value': 0},\n",
        "  {'source': 3, 'target': 4, 'value': 4},\n",
        "  {'source': 3, 'target': 5, 'value': 19},\n",
        "  {'source': 3, 'target': 6, 'value': 0},\n",
        "  {'source': 3, 'target': 7, 'value': 9},\n",
        "  {'source': 3, 'target': 8, 'value': 8},\n",
        "  {'source': 3, 'target': 9, 'value': 3},\n",
        "  {'source': 4, 'target': 0, 'value': 3},\n",
        "  {'source': 4, 'target': 1, 'value': 1},\n",
        "  {'source': 4, 'target': 2, 'value': 3},\n",
        "  {'source': 4, 'target': 3, 'value': 4},\n",
        "  {'source': 4, 'target': 4, 'value': 0},\n",
        "  {'source': 4, 'target': 5, 'value': 15},\n",
        "  {'source': 4, 'target': 6, 'value': 4},\n",
        "  {'source': 4, 'target': 7, 'value': 5},\n",
        "  {'source': 4, 'target': 8, 'value': 4},\n",
        "  {'source': 4, 'target': 9, 'value': 1},\n",
        "  {'source': 5, 'target': 0, 'value': 18},\n",
        "  {'source': 5, 'target': 1, 'value': 16},\n",
        "  {'source': 5, 'target': 2, 'value': 18},\n",
        "  {'source': 5, 'target': 3, 'value': 19},\n",
        "  {'source': 5, 'target': 4, 'value': 15},\n",
        "  {'source': 5, 'target': 5, 'value': 0},\n",
        "  {'source': 5, 'target': 6, 'value': 19},\n",
        "  {'source': 5, 'target': 7, 'value': 10},\n",
        "  {'source': 5, 'target': 8, 'value': 11},\n",
        "  {'source': 5, 'target': 9, 'value': 16},\n",
        "  {'source': 6, 'target': 0, 'value': 1},\n",
        "  {'source': 6, 'target': 1, 'value': 3},\n",
        "  {'source': 6, 'target': 2, 'value': 1},\n",
        "  {'source': 6, 'target': 3, 'value': 0},\n",
        "  {'source': 6, 'target': 4, 'value': 4},\n",
        "  {'source': 6, 'target': 5, 'value': 19},\n",
        "  {'source': 6, 'target': 6, 'value': 0},\n",
        "  {'source': 6, 'target': 7, 'value': 9},\n",
        "  {'source': 6, 'target': 8, 'value': 8},\n",
        "  {'source': 6, 'target': 9, 'value': 3},\n",
        "  {'source': 7, 'target': 0, 'value': 8},\n",
        "  {'source': 7, 'target': 1, 'value': 6},\n",
        "  {'source': 7, 'target': 2, 'value': 8},\n",
        "  {'source': 7, 'target': 3, 'value': 9},\n",
        "  {'source': 7, 'target': 4, 'value': 5},\n",
        "  {'source': 7, 'target': 5, 'value': 10},\n",
        "  {'source': 7, 'target': 6, 'value': 9},\n",
        "  {'source': 7, 'target': 7, 'value': 0},\n",
        "  {'source': 7, 'target': 8, 'value': 1},\n",
        "  {'source': 7, 'target': 9, 'value': 6},\n",
        "  {'source': 8, 'target': 0, 'value': 7},\n",
        "  {'source': 8, 'target': 1, 'value': 5},\n",
        "  {'source': 8, 'target': 2, 'value': 7},\n",
        "  {'source': 8, 'target': 3, 'value': 8},\n",
        "  {'source': 8, 'target': 4, 'value': 4},\n",
        "  {'source': 8, 'target': 5, 'value': 11},\n",
        "  {'source': 8, 'target': 6, 'value': 8},\n",
        "  {'source': 8, 'target': 7, 'value': 1},\n",
        "  {'source': 8, 'target': 8, 'value': 0},\n",
        "  {'source': 8, 'target': 9, 'value': 5},\n",
        "  {'source': 9, 'target': 0, 'value': 2},\n",
        "  {'source': 9, 'target': 1, 'value': 0},\n",
        "  {'source': 9, 'target': 2, 'value': 2},\n",
        "  {'source': 9, 'target': 3, 'value': 3},\n",
        "  {'source': 9, 'target': 4, 'value': 1},\n",
        "  {'source': 9, 'target': 5, 'value': 16},\n",
        "  {'source': 9, 'target': 6, 'value': 3},\n",
        "  {'source': 9, 'target': 7, 'value': 6},\n",
        "  {'source': 9, 'target': 8, 'value': 5},\n",
        "  {'source': 9, 'target': 9, 'value': 0}],\n",
        " 'nodes': [{'deck': 1, 'price': 12, 'row': 1, 'seat': 1, 'section': 12},\n",
        "  {'deck': 1, 'price': 14, 'row': 2, 'seat': 1, 'section': 17},\n",
        "  {'deck': 3, 'price': 12, 'row': 4, 'seat': 1, 'section': 18},\n",
        "  {'deck': 3, 'price': 11, 'row': 5, 'seat': 1, 'section': 19},\n",
        "  {'deck': 3, 'price': 15, 'row': 6, 'seat': 1, 'section': 11},\n",
        "  {'deck': 1, 'price': 30, 'row': 1, 'seat': 1, 'section': 13},\n",
        "  {'deck': 1, 'price': 11, 'row': 1, 'seat': 1, 'section': 11},\n",
        "  {'deck': 1, 'price': 20, 'row': 1, 'seat': 1, 'section': 23},\n",
        "  {'deck': 1, 'price': 19, 'row': 1, 'seat': 1, 'section': 10},\n",
        "  {'deck': 1, 'price': 14, 'row': 1, 'seat': 1, 'section': 9}]}"
       ]
      }
     ],
     "prompt_number": 54
    },
    {
     "cell_type": "code",
     "collapsed": false,
     "input": [
      "import json"
     ],
     "language": "python",
     "metadata": {},
     "outputs": [],
     "prompt_number": 55
    },
    {
     "cell_type": "code",
     "collapsed": false,
     "input": [
      "with open('test.json', 'w') as outfile:\n",
      "  json.dump(fake_data, outfile)"
     ],
     "language": "python",
     "metadata": {},
     "outputs": [],
     "prompt_number": 56
    },
    {
     "cell_type": "code",
     "collapsed": false,
     "input": [],
     "language": "python",
     "metadata": {},
     "outputs": []
    }
   ],
   "metadata": {}
  }
 ]
}
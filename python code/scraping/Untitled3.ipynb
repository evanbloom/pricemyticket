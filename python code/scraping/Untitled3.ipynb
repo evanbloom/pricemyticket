{
 "metadata": {
  "name": "",
  "signature": "sha256:63f984a484753282f79a04d7391d27c66b2b54ece4955b0f814e00555d314ab0"
 },
 "nbformat": 3,
 "nbformat_minor": 0,
 "worksheets": [
  {
   "cells": [
    {
     "cell_type": "code",
     "collapsed": false,
     "input": [
      "import pymysql as mdb\n",
      "\n",
      "db = mdb.connect(user=\"root\", host=\"localhost\", passwd='FsI786h4', db=\"ticketpricedb\", charset='utf8')\n"
     ],
     "language": "python",
     "metadata": {},
     "outputs": [],
     "prompt_number": 3
    },
    {
     "cell_type": "code",
     "collapsed": false,
     "input": [
      "game_name_tag"
     ],
     "language": "python",
     "metadata": {},
     "outputs": [
      {
       "metadata": {},
       "output_type": "pyout",
       "prompt_number": 41,
       "text": [
        "\"'Padres at Giants (September 25)'\""
       ]
      }
     ],
     "prompt_number": 41
    },
    {
     "cell_type": "code",
     "collapsed": false,
     "input": [
      "\tevents_data=[]\n",
      "\t\n",
      "\twith db:\n",
      "\t\tquery = \"\"\"SELECT Hour, Minute, Year,Month,Day FROM event_char WHERE game_name = %s ;\"\"\"\n",
      "\t\tquery = query % (game_name_tag)\n",
      "\t\tcur = db.cursor()\n",
      "\t\t\n",
      "\t\tcur.execute(query)\n",
      "\t\tquery_results = cur.fetchall()\n",
      "\t\tfor result in query_results:\n",
      "\t\t\tevents_data.append(result)\n",
      "\t\n",
      "    "
     ],
     "language": "python",
     "metadata": {},
     "outputs": [],
     "prompt_number": 47
    },
    {
     "cell_type": "code",
     "collapsed": false,
     "input": [
      "\tevents_data=events_data[0]\n",
      "\t\n",
      "\tevent_hour=events_data[0]\n",
      "\tevent_minute=events_data[1]\n",
      "\tevent_year=events_data[2]\n",
      "\tevent_month=events_data[3]\n",
      "\tevent_day=events_data[4]\n",
      "    \n",
      "print event_year,event_month, event_day, event_hour, event_minute"
     ],
     "language": "python",
     "metadata": {},
     "outputs": [
      {
       "output_type": "stream",
       "stream": "stdout",
       "text": [
        "2014 9 25 19 15\n"
       ]
      }
     ],
     "prompt_number": 48
    },
    {
     "cell_type": "code",
     "collapsed": false,
     "input": [
      "event_datetime= datetime.datetime(event_year, event_month, event_day, event_hour, event_minute)\n",
      "datetime.datetime()"
     ],
     "language": "python",
     "metadata": {},
     "outputs": [],
     "prompt_number": 33
    },
    {
     "cell_type": "code",
     "collapsed": false,
     "input": [
      "event_datetime"
     ],
     "language": "python",
     "metadata": {},
     "outputs": [
      {
       "metadata": {},
       "output_type": "pyout",
       "prompt_number": 34,
       "text": [
        "datetime.datetime(2014, 9, 25, 19, 15)"
       ]
      }
     ],
     "prompt_number": 34
    },
    {
     "cell_type": "code",
     "collapsed": false,
     "input": [
      "(datetime.datetime.now()-event_datetime).total_seconds()//60"
     ],
     "language": "python",
     "metadata": {},
     "outputs": [
      {
       "metadata": {},
       "output_type": "pyout",
       "prompt_number": 52,
       "text": [
        "-9548.0"
       ]
      }
     ],
     "prompt_number": 52
    },
    {
     "cell_type": "code",
     "collapsed": false,
     "input": [
      "import pandas as pd\n",
      "a= pd.Series([.5])\n",
      "float(a[0])"
     ],
     "language": "python",
     "metadata": {},
     "outputs": [
      {
       "metadata": {},
       "output_type": "pyout",
       "prompt_number": 57,
       "text": [
        "0.5"
       ]
      }
     ],
     "prompt_number": 57
    },
    {
     "cell_type": "code",
     "collapsed": false,
     "input": [
      "datetime.datetime.now()"
     ],
     "language": "python",
     "metadata": {},
     "outputs": [
      {
       "metadata": {},
       "output_type": "pyout",
       "prompt_number": 22,
       "text": [
        "datetime.datetime(2014, 9, 19, 2, 40, 17, 974334)"
       ]
      }
     ],
     "prompt_number": 22
    },
    {
     "cell_type": "code",
     "collapsed": false,
     "input": [
      "x=pd.Series([0,.25,.5,.75,1])\n",
      "pred=pd.Series([20,30,70,90,100])\n",
      "percent_certain =.25\n",
      "pred_index = x.index[x==percent_certain]\n",
      "\n",
      "certain_price= float(pred[pred_index])\n",
      "certain_price"
     ],
     "language": "python",
     "metadata": {},
     "outputs": [
      {
       "metadata": {},
       "output_type": "pyout",
       "prompt_number": 80,
       "text": [
        "30.0"
       ]
      }
     ],
     "prompt_number": 80
    },
    {
     "cell_type": "code",
     "collapsed": false,
     "input": [
      "datetime.datetime.now()-datetime.datetime(2,3,4,0,1)"
     ],
     "language": "python",
     "metadata": {},
     "outputs": []
    },
    {
     "cell_type": "code",
     "collapsed": false,
     "input": [
      "from sklearn.externals import joblib\n",
      "probs = joblib.load('/Users/theblooms/Desktop/insight/prob_forrest.pkl') "
     ],
     "language": "python",
     "metadata": {},
     "outputs": [],
     "prompt_number": 68
    },
    {
     "cell_type": "code",
     "collapsed": false,
     "input": [
      "x=[]\n",
      "pred=[]\n",
      "for a in range(0,275,1):\n",
      "    a= float(a)/100\n",
      "    out= probs.predict_proba(a)\n",
      "    out=out.tolist()\n",
      "    out=out[0]\n",
      "    out=out[1]\n",
      "    pred.append(out)\n",
      "    x.append(a)\n",
      "    \n"
     ],
     "language": "python",
     "metadata": {},
     "outputs": [],
     "prompt_number": 118
    },
    {
     "cell_type": "code",
     "collapsed": false,
     "input": [
      "\n",
      "\n",
      "pred= [round(elem, 2) for elem in pred]\n",
      "x[pred >= percent_certain]"
     ],
     "language": "python",
     "metadata": {},
     "outputs": [
      {
       "metadata": {},
       "output_type": "pyout",
       "prompt_number": 121,
       "text": [
        "0.01"
       ]
      }
     ],
     "prompt_number": 121
    },
    {
     "cell_type": "code",
     "collapsed": false,
     "input": [
      "[pred >= percent_certain]"
     ],
     "language": "python",
     "metadata": {},
     "outputs": [
      {
       "metadata": {},
       "output_type": "pyout",
       "prompt_number": 123,
       "text": [
        "[True]"
       ]
      }
     ],
     "prompt_number": 123
    },
    {
     "cell_type": "code",
     "collapsed": false,
     "input": [
      "percent_certain=.4\n",
      "certain_price= pred[x==percent_certain]\n",
      "percent_certain_out_ten = percent_certain*10\n",
      "\n",
      "print pred_index , certain_price, percent_certain_out_ten "
     ],
     "language": "python",
     "metadata": {},
     "outputs": [
      {
       "output_type": "stream",
       "stream": "stdout",
       "text": [
        "0.0 0.352972931353 4.0\n"
       ]
      }
     ],
     "prompt_number": 109
    },
    {
     "cell_type": "code",
     "collapsed": false,
     "input": [
      "certain_price"
     ],
     "language": "python",
     "metadata": {},
     "outputs": [
      {
       "metadata": {},
       "output_type": "pyout",
       "prompt_number": 91,
       "text": [
        "0.35297293135309438"
       ]
      }
     ],
     "prompt_number": 91
    },
    {
     "cell_type": "code",
     "collapsed": false,
     "input": [
      "percent_certain"
     ],
     "language": "python",
     "metadata": {},
     "outputs": [
      {
       "metadata": {},
       "output_type": "pyout",
       "prompt_number": 92,
       "text": [
        "0.25"
       ]
      }
     ],
     "prompt_number": 92
    },
    {
     "cell_type": "code",
     "collapsed": false,
     "input": [
      "pred=pd.Series(pred)"
     ],
     "language": "python",
     "metadata": {},
     "outputs": [],
     "prompt_number": 125
    },
    {
     "cell_type": "code",
     "collapsed": false,
     "input": [
      "pred[0]"
     ],
     "language": "python",
     "metadata": {},
     "outputs": [
      {
       "metadata": {},
       "output_type": "pyout",
       "prompt_number": 127,
       "text": [
        "0.34999999999999998"
       ]
      }
     ],
     "prompt_number": 127
    },
    {
     "cell_type": "code",
     "collapsed": false,
     "input": [
      "x=pd.Series(x)\n",
      "pred= pd.Series(pred)"
     ],
     "language": "python",
     "metadata": {},
     "outputs": [],
     "prompt_number": 128
    },
    {
     "cell_type": "code",
     "collapsed": false,
     "input": [
      "certain_price=x[pred.index[pred >=percent_certain]]"
     ],
     "language": "python",
     "metadata": {},
     "outputs": [],
     "prompt_number": 147
    },
    {
     "cell_type": "code",
     "collapsed": false,
     "input": [
      "certain_price.min()"
     ],
     "language": "python",
     "metadata": {},
     "outputs": [
      {
       "metadata": {},
       "output_type": "pyout",
       "prompt_number": 149,
       "text": [
        "1.23"
       ]
      }
     ],
     "prompt_number": 149
    },
    {
     "cell_type": "code",
     "collapsed": false,
     "input": [
      "x=[]\n",
      "pred=[]\n",
      "for a in range(0,275,1):\n",
      "    a= float(a)/100\n",
      "    out= probs.predict_proba(a)\n",
      "    out=out.tolist()\n",
      "    out=out[0]\n",
      "    out=out[1]\n",
      "    pred2 = pred.append(out)\n",
      "    x2 =x.append(a)"
     ],
     "language": "python",
     "metadata": {},
     "outputs": [],
     "prompt_number": 168
    },
    {
     "cell_type": "code",
     "collapsed": false,
     "input": [
      "x2"
     ],
     "language": "python",
     "metadata": {},
     "outputs": [],
     "prompt_number": 171
    },
    {
     "cell_type": "code",
     "collapsed": false,
     "input": [
      "x=   [ round(elem, 2) for elem in x]"
     ],
     "language": "python",
     "metadata": {},
     "outputs": [],
     "prompt_number": 157
    },
    {
     "cell_type": "code",
     "collapsed": false,
     "input": [
      "x=pd.Series(x)"
     ],
     "language": "python",
     "metadata": {},
     "outputs": [],
     "prompt_number": 159
    },
    {
     "cell_type": "code",
     "collapsed": false,
     "input": [
      "for i in range(275):\n",
      "    print i"
     ],
     "language": "python",
     "metadata": {},
     "outputs": [
      {
       "output_type": "stream",
       "stream": "stdout",
       "text": [
        "0\n",
        "1\n",
        "2\n",
        "3\n",
        "4\n",
        "5\n",
        "6\n",
        "7\n",
        "8\n",
        "9\n",
        "10\n",
        "11\n",
        "12\n",
        "13\n",
        "14\n",
        "15\n",
        "16\n",
        "17\n",
        "18\n",
        "19\n",
        "20\n",
        "21\n",
        "22\n",
        "23\n",
        "24\n",
        "25\n",
        "26\n",
        "27\n",
        "28\n",
        "29\n",
        "30\n",
        "31\n",
        "32\n",
        "33\n",
        "34\n",
        "35\n",
        "36\n",
        "37\n",
        "38\n",
        "39\n",
        "40\n",
        "41\n",
        "42\n",
        "43\n",
        "44\n",
        "45\n",
        "46\n",
        "47\n",
        "48\n",
        "49\n",
        "50\n",
        "51\n",
        "52\n",
        "53\n",
        "54\n",
        "55\n",
        "56\n",
        "57\n",
        "58\n",
        "59\n",
        "60\n",
        "61\n",
        "62\n",
        "63\n",
        "64\n",
        "65\n",
        "66\n",
        "67\n",
        "68\n",
        "69\n",
        "70\n",
        "71\n",
        "72\n",
        "73\n",
        "74\n",
        "75\n",
        "76\n",
        "77\n",
        "78\n",
        "79\n",
        "80\n",
        "81\n",
        "82\n",
        "83\n",
        "84\n",
        "85\n",
        "86\n",
        "87\n",
        "88\n",
        "89\n",
        "90\n",
        "91\n",
        "92\n",
        "93\n",
        "94\n",
        "95\n",
        "96\n",
        "97\n",
        "98\n",
        "99\n",
        "100\n",
        "101\n",
        "102\n",
        "103\n",
        "104\n",
        "105\n",
        "106\n",
        "107\n",
        "108\n",
        "109\n",
        "110\n",
        "111\n",
        "112\n",
        "113\n",
        "114\n",
        "115\n",
        "116\n",
        "117\n",
        "118\n",
        "119\n",
        "120\n",
        "121\n",
        "122\n",
        "123\n",
        "124\n",
        "125\n",
        "126\n",
        "127\n",
        "128\n",
        "129\n",
        "130\n",
        "131\n",
        "132\n",
        "133\n",
        "134\n",
        "135\n",
        "136\n",
        "137\n",
        "138\n",
        "139\n",
        "140\n",
        "141\n",
        "142\n",
        "143\n",
        "144\n",
        "145\n",
        "146\n",
        "147\n",
        "148\n",
        "149\n",
        "150\n",
        "151\n",
        "152\n",
        "153\n",
        "154\n",
        "155\n",
        "156\n",
        "157\n",
        "158\n",
        "159\n",
        "160\n",
        "161\n",
        "162\n",
        "163\n",
        "164\n",
        "165\n",
        "166\n",
        "167\n",
        "168\n",
        "169\n",
        "170\n",
        "171\n",
        "172\n",
        "173\n",
        "174\n",
        "175\n",
        "176\n",
        "177\n",
        "178\n",
        "179\n",
        "180\n",
        "181\n",
        "182\n",
        "183\n",
        "184\n",
        "185\n",
        "186\n",
        "187\n",
        "188\n",
        "189\n",
        "190\n",
        "191\n",
        "192\n",
        "193\n",
        "194\n",
        "195\n",
        "196\n",
        "197\n",
        "198\n",
        "199\n",
        "200\n",
        "201\n",
        "202\n",
        "203\n",
        "204\n",
        "205\n",
        "206\n",
        "207\n",
        "208\n",
        "209\n",
        "210\n",
        "211\n",
        "212\n",
        "213\n",
        "214\n",
        "215\n",
        "216\n",
        "217\n",
        "218\n",
        "219\n",
        "220\n",
        "221\n",
        "222\n",
        "223\n",
        "224\n",
        "225\n",
        "226\n",
        "227\n",
        "228\n",
        "229\n",
        "230\n",
        "231\n",
        "232\n",
        "233\n",
        "234\n",
        "235\n",
        "236\n",
        "237\n",
        "238\n",
        "239\n",
        "240\n",
        "241\n",
        "242\n",
        "243\n",
        "244\n",
        "245\n",
        "246\n",
        "247\n",
        "248\n",
        "249\n",
        "250\n",
        "251\n",
        "252\n",
        "253\n",
        "254\n",
        "255\n",
        "256\n",
        "257\n",
        "258\n",
        "259\n",
        "260\n",
        "261\n",
        "262\n",
        "263\n",
        "264\n",
        "265\n",
        "266\n",
        "267\n",
        "268\n",
        "269\n",
        "270\n",
        "271\n",
        "272\n",
        "273\n",
        "274\n"
       ]
      }
     ],
     "prompt_number": 177
    },
    {
     "cell_type": "code",
     "collapsed": false,
     "input": [
      "x"
     ],
     "language": "python",
     "metadata": {},
     "outputs": [
      {
       "metadata": {},
       "output_type": "pyout",
       "prompt_number": 174,
       "text": [
        "[0.0,\n",
        " 0.01,\n",
        " 0.02,\n",
        " 0.03,\n",
        " 0.04,\n",
        " 0.05,\n",
        " 0.06,\n",
        " 0.07,\n",
        " 0.08,\n",
        " 0.09,\n",
        " 0.1,\n",
        " 0.11,\n",
        " 0.12,\n",
        " 0.13,\n",
        " 0.14,\n",
        " 0.15,\n",
        " 0.16,\n",
        " 0.17,\n",
        " 0.18,\n",
        " 0.19,\n",
        " 0.2,\n",
        " 0.21,\n",
        " 0.22,\n",
        " 0.23,\n",
        " 0.24,\n",
        " 0.25,\n",
        " 0.26,\n",
        " 0.27,\n",
        " 0.28,\n",
        " 0.29,\n",
        " 0.3,\n",
        " 0.31,\n",
        " 0.32,\n",
        " 0.33,\n",
        " 0.34,\n",
        " 0.35,\n",
        " 0.36,\n",
        " 0.37,\n",
        " 0.38,\n",
        " 0.39,\n",
        " 0.4,\n",
        " 0.41,\n",
        " 0.42,\n",
        " 0.43,\n",
        " 0.44,\n",
        " 0.45,\n",
        " 0.46,\n",
        " 0.47,\n",
        " 0.48,\n",
        " 0.49,\n",
        " 0.5,\n",
        " 0.51,\n",
        " 0.52,\n",
        " 0.53,\n",
        " 0.54,\n",
        " 0.55,\n",
        " 0.56,\n",
        " 0.57,\n",
        " 0.58,\n",
        " 0.59,\n",
        " 0.6,\n",
        " 0.61,\n",
        " 0.62,\n",
        " 0.63,\n",
        " 0.64,\n",
        " 0.65,\n",
        " 0.66,\n",
        " 0.67,\n",
        " 0.68,\n",
        " 0.69,\n",
        " 0.7,\n",
        " 0.71,\n",
        " 0.72,\n",
        " 0.73,\n",
        " 0.74,\n",
        " 0.75,\n",
        " 0.76,\n",
        " 0.77,\n",
        " 0.78,\n",
        " 0.79,\n",
        " 0.8,\n",
        " 0.81,\n",
        " 0.82,\n",
        " 0.83,\n",
        " 0.84,\n",
        " 0.85,\n",
        " 0.86,\n",
        " 0.87,\n",
        " 0.88,\n",
        " 0.89,\n",
        " 0.9,\n",
        " 0.91,\n",
        " 0.92,\n",
        " 0.93,\n",
        " 0.94,\n",
        " 0.95,\n",
        " 0.96,\n",
        " 0.97,\n",
        " 0.98,\n",
        " 0.99,\n",
        " 1.0,\n",
        " 1.01,\n",
        " 1.02,\n",
        " 1.03,\n",
        " 1.04,\n",
        " 1.05,\n",
        " 1.06,\n",
        " 1.07,\n",
        " 1.08,\n",
        " 1.09,\n",
        " 1.1,\n",
        " 1.11,\n",
        " 1.12,\n",
        " 1.13,\n",
        " 1.14,\n",
        " 1.15,\n",
        " 1.16,\n",
        " 1.17,\n",
        " 1.18,\n",
        " 1.19,\n",
        " 1.2,\n",
        " 1.21,\n",
        " 1.22,\n",
        " 1.23,\n",
        " 1.24,\n",
        " 1.25,\n",
        " 1.26,\n",
        " 1.27,\n",
        " 1.28,\n",
        " 1.29,\n",
        " 1.3,\n",
        " 1.31,\n",
        " 1.32,\n",
        " 1.33,\n",
        " 1.34,\n",
        " 1.35,\n",
        " 1.36,\n",
        " 1.37,\n",
        " 1.38,\n",
        " 1.39,\n",
        " 1.4,\n",
        " 1.41,\n",
        " 1.42,\n",
        " 1.43,\n",
        " 1.44,\n",
        " 1.45,\n",
        " 1.46,\n",
        " 1.47,\n",
        " 1.48,\n",
        " 1.49,\n",
        " 1.5,\n",
        " 1.51,\n",
        " 1.52,\n",
        " 1.53,\n",
        " 1.54,\n",
        " 1.55,\n",
        " 1.56,\n",
        " 1.57,\n",
        " 1.58,\n",
        " 1.59,\n",
        " 1.6,\n",
        " 1.61,\n",
        " 1.62,\n",
        " 1.63,\n",
        " 1.64,\n",
        " 1.65,\n",
        " 1.66,\n",
        " 1.67,\n",
        " 1.68,\n",
        " 1.69,\n",
        " 1.7,\n",
        " 1.71,\n",
        " 1.72,\n",
        " 1.73,\n",
        " 1.74,\n",
        " 1.75,\n",
        " 1.76,\n",
        " 1.77,\n",
        " 1.78,\n",
        " 1.79,\n",
        " 1.8,\n",
        " 1.81,\n",
        " 1.82,\n",
        " 1.83,\n",
        " 1.84,\n",
        " 1.85,\n",
        " 1.86,\n",
        " 1.87,\n",
        " 1.88,\n",
        " 1.89,\n",
        " 1.9,\n",
        " 1.91,\n",
        " 1.92,\n",
        " 1.93,\n",
        " 1.94,\n",
        " 1.95,\n",
        " 1.96,\n",
        " 1.97,\n",
        " 1.98,\n",
        " 1.99,\n",
        " 2.0,\n",
        " 2.01,\n",
        " 2.02,\n",
        " 2.03,\n",
        " 2.04,\n",
        " 2.05,\n",
        " 2.06,\n",
        " 2.07,\n",
        " 2.08,\n",
        " 2.09,\n",
        " 2.1,\n",
        " 2.11,\n",
        " 2.12,\n",
        " 2.13,\n",
        " 2.14,\n",
        " 2.15,\n",
        " 2.16,\n",
        " 2.17,\n",
        " 2.18,\n",
        " 2.19,\n",
        " 2.2,\n",
        " 2.21,\n",
        " 2.22,\n",
        " 2.23,\n",
        " 2.24,\n",
        " 2.25,\n",
        " 2.26,\n",
        " 2.27,\n",
        " 2.28,\n",
        " 2.29,\n",
        " 2.3,\n",
        " 2.31,\n",
        " 2.32,\n",
        " 2.33,\n",
        " 2.34,\n",
        " 2.35,\n",
        " 2.36,\n",
        " 2.37,\n",
        " 2.38,\n",
        " 2.39,\n",
        " 2.4,\n",
        " 2.41,\n",
        " 2.42,\n",
        " 2.43,\n",
        " 2.44,\n",
        " 2.45,\n",
        " 2.46,\n",
        " 2.47,\n",
        " 2.48,\n",
        " 2.49,\n",
        " 2.5,\n",
        " 2.51,\n",
        " 2.52,\n",
        " 2.53,\n",
        " 2.54,\n",
        " 2.55,\n",
        " 2.56,\n",
        " 2.57,\n",
        " 2.58,\n",
        " 2.59,\n",
        " 2.6,\n",
        " 2.61,\n",
        " 2.62,\n",
        " 2.63,\n",
        " 2.64,\n",
        " 2.65,\n",
        " 2.66,\n",
        " 2.67,\n",
        " 2.68,\n",
        " 2.69,\n",
        " 2.7,\n",
        " 2.71,\n",
        " 2.72,\n",
        " 2.73,\n",
        " 2.74]"
       ]
      }
     ],
     "prompt_number": 174
    },
    {
     "cell_type": "code",
     "collapsed": false,
     "input": [],
     "language": "python",
     "metadata": {},
     "outputs": []
    }
   ],
   "metadata": {}
  }
 ]
}
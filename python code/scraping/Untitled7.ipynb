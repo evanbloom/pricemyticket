{
 "metadata": {
  "name": "",
  "signature": "sha256:a4952f344e584c29593081338b9bcad590ff48823311bf355cdeeca8f98e51a3"
 },
 "nbformat": 3,
 "nbformat_minor": 0,
 "worksheets": [
  {
   "cells": [
    {
     "cell_type": "code",
     "collapsed": false,
     "input": [
      "f"
     ],
     "language": "python",
     "metadata": {},
     "outputs": []
    }
   ],
   "metadata": {}
  }
 ]
}
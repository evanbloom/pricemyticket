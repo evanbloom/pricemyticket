{
 "metadata": {
  "name": "",
  "signature": "sha256:67841e0d7f4f80fa55463810420f90d169195143e02249ff4e76bda48c2b9c24"
 },
 "nbformat": 3,
 "nbformat_minor": 0,
 "worksheets": [
  {
   "cells": [
    {
     "cell_type": "code",
     "collapsed": false,
     "input": [
      "#This code reads in the Game info dataset from CSV File and imports\n",
      "#It then imports it to an SQL Database\n",
      "\n",
      "import pandas as pd\n",
      "import pymysql as mdb\n",
      "from pandas.io import sql"
     ],
     "language": "python",
     "metadata": {},
     "outputs": [],
     "prompt_number": 4
    },
    {
     "cell_type": "code",
     "collapsed": false,
     "input": [
      "#This code reads in the event characteristics data into ticketpricedb\n",
      "\n",
      "event_char = pd.read_csv ('/Users/theblooms/Desktop/insight/data/events_to_scrape.csv')\n",
      "db = mdb.connect(host='localhost', port= int(3306), user='root',passwd='FsI786h4', db='ticketpricedb') \n",
      "\n",
      "sql.to_sql(event_char, con=db, name='event_char', if_exists='replace', flavor='mysql')\n",
      "\n"
     ],
     "language": "python",
     "metadata": {},
     "outputs": [],
     "prompt_number": 5
    },
    {
     "cell_type": "code",
     "collapsed": false,
     "input": [
      "event_id= 4403425\n",
      "sql_str = 'SELECT Event_ID, Year, Day, Hour, Minute FROM event_char WHERE Event_ID = %d' %event_id\n",
      "print sql_str"
     ],
     "language": "python",
     "metadata": {},
     "outputs": [
      {
       "output_type": "stream",
       "stream": "stdout",
       "text": [
        "SELECT Event_ID, Year, Day, Hour, Minute FROM event_char WHERE Event_ID = 4403425\n"
       ]
      }
     ],
     "prompt_number": 3
    },
    {
     "cell_type": "code",
     "collapsed": false,
     "input": [
      "a= sql.read_frame(sql_str , con=db)\n",
      "int(a['Hour'])\n"
     ],
     "language": "python",
     "metadata": {},
     "outputs": [
      {
       "metadata": {},
       "output_type": "pyout",
       "prompt_number": 66,
       "text": [
        "19"
       ]
      }
     ],
     "prompt_number": 66
    },
    {
     "cell_type": "code",
     "collapsed": false,
     "input": [
      "test1= 10000\n",
      "a= 50000\n",
      "\n",
      "test1= a if a<test1 else test1\n",
      "print test1\n"
     ],
     "language": "python",
     "metadata": {},
     "outputs": [
      {
       "output_type": "stream",
       "stream": "stdout",
       "text": [
        "10000\n"
       ]
      }
     ],
     "prompt_number": 71
    },
    {
     "cell_type": "code",
     "collapsed": false,
     "input": [
      "\n",
      "with con:\n",
      "    cur = con.cursor()\n",
      "    cur.execute(\"DROP TABLE IF EXISTS Writers\")\n",
      "    cur.execute(\"CREATE TABLE Writers(Id INT PRIMARY KEY AUTO_INCREMENT,Name VARCHAR(25))\")\n",
      "    cur.execute(\"INSERT INTO Writers(Name) VALUES('Jack London')\")\n",
      "    cur.execute(\"INSERT INTO Writers(Name) VALUES('Honore de Balzac')\")\n",
      "    cur.execute(\"INSERT INTO Writers(Name) VALUES('Lion Feuchtwanger')\")\n",
      "    cur.execute(\"INSERT INTO Writers(Name) VALUES('Emile Zola')\")\n",
      "    cur.execute(\"INSERT INTO Writers(Name) VALUES('Truman Capote')\")\n",
      "\n",
      "with con: \n",
      "    cur = con.cursor()\n",
      "    cur.execute(\"SELECT * FROM Writers\")\n",
      "    rows = cur.fetchall()\n",
      "    for row in rows:\n",
      "        print row"
     ],
     "language": "python",
     "metadata": {},
     "outputs": []
    }
   ],
   "metadata": {}
  }
 ]
}
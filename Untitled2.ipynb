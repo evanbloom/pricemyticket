{
 "metadata": {
  "name": "",
  "signature": "sha256:e0553cfe63d398836026cb7eda9532f46a8d3d623875d9223b6a563ed5fb6234"
 },
 "nbformat": 3,
 "nbformat_minor": 0,
 "worksheets": [
  {
   "cells": [
    {
     "cell_type": "code",
     "collapsed": false,
     "input": [
      "def perm (aWord):\n",
      "    out=[]\n",
      "    if len(aWord)<=1:\n",
      "        return aWord\n",
      "    else:\n",
      "        for i in range(len(aWord)):\n",
      "            first= aWord[i]\n",
      "            remaining = aWord[:i] + aWord[i+1:]\n",
      "            list_of_perms= perm(remaining)\n",
      "            for element in list_of_perms:\n",
      "                 out.append(first+element)\n",
      "                    \n",
      "    return out"
     ],
     "language": "python",
     "metadata": {},
     "outputs": [],
     "prompt_number": 34
    },
    {
     "cell_type": "code",
     "collapsed": false,
     "input": [
      "def case_combo (aWord):\n",
      "    out = []\n",
      "    if len(aWord)<=1:\n",
      "        return aWord\n",
      "    else:\n",
      "        first=()]\n",
      "        restofword= aWord[1:]\n",
      "        for element in first:\n",
      "            out.append(element+restofword)\n",
      "        return out    "
     ],
     "language": "python",
     "metadata": {},
     "outputs": [
      {
       "ename": "SyntaxError",
       "evalue": "invalid syntax (<ipython-input-75-8865c2de0136>, line 6)",
       "output_type": "pyerr",
       "traceback": [
        "\u001b[0;36m  File \u001b[0;32m\"<ipython-input-75-8865c2de0136>\"\u001b[0;36m, line \u001b[0;32m6\u001b[0m\n\u001b[0;31m    first=[aWord[0].upper(),(aWord[0].low()]\u001b[0m\n\u001b[0m                                           ^\u001b[0m\n\u001b[0;31mSyntaxError\u001b[0m\u001b[0;31m:\u001b[0m invalid syntax\n"
       ]
      }
     ],
     "prompt_number": 75
    },
    {
     "cell_type": "code",
     "collapsed": false,
     "input": [
      "case_combo(\"Cat\")"
     ],
     "language": "python",
     "metadata": {},
     "outputs": [
      {
       "metadata": {},
       "output_type": "pyout",
       "prompt_number": 76,
       "text": [
        "['Cat', 'cat']"
       ]
      }
     ],
     "prompt_number": 76
    },
    {
     "cell_type": "code",
     "collapsed": false,
     "input": [
      "\"cat\"[:-1]"
     ],
     "language": "python",
     "metadata": {},
     "outputs": [
      {
       "metadata": {},
       "output_type": "pyout",
       "prompt_number": 58,
       "text": [
        "'ca'"
       ]
      }
     ],
     "prompt_number": 58
    },
    {
     "cell_type": "code",
     "collapsed": false,
     "input": [
      "\n",
      "def all_casings(input_string):\n",
      "    if input_string==\"\":\n",
      "        return \"\"\n",
      "    else:\n",
      "        first = input_string[:1]\n",
      "        others= all_casings(input_string[1:])\n",
      "        for sub_casing in others:\n",
      "            return [first.lower() + sub_casing, first.upper() + sub_casing]"
     ],
     "language": "python",
     "metadata": {},
     "outputs": [],
     "prompt_number": 84
    },
    {
     "cell_type": "code",
     "collapsed": false,
     "input": [
      "all_casings(\"cat\")"
     ],
     "language": "python",
     "metadata": {},
     "outputs": [
      {
       "ename": "TypeError",
       "evalue": "'NoneType' object is not iterable",
       "output_type": "pyerr",
       "traceback": [
        "\u001b[0;31m---------------------------------------------------------------------------\u001b[0m\n\u001b[0;31mTypeError\u001b[0m                                 Traceback (most recent call last)",
        "\u001b[0;32m<ipython-input-85-f7a67b67e273>\u001b[0m in \u001b[0;36m<module>\u001b[0;34m()\u001b[0m\n\u001b[0;32m----> 1\u001b[0;31m \u001b[0mall_casings\u001b[0m\u001b[0;34m(\u001b[0m\u001b[0;34m\"cat\"\u001b[0m\u001b[0;34m)\u001b[0m\u001b[0;34m\u001b[0m\u001b[0m\n\u001b[0m",
        "\u001b[0;32m<ipython-input-84-3e3fa4d7dd47>\u001b[0m in \u001b[0;36mall_casings\u001b[0;34m(input_string)\u001b[0m\n\u001b[1;32m      5\u001b[0m     \u001b[0;32melse\u001b[0m\u001b[0;34m:\u001b[0m\u001b[0;34m\u001b[0m\u001b[0m\n\u001b[1;32m      6\u001b[0m         \u001b[0mfirst\u001b[0m \u001b[0;34m=\u001b[0m \u001b[0minput_string\u001b[0m\u001b[0;34m[\u001b[0m\u001b[0;34m:\u001b[0m\u001b[0;36m1\u001b[0m\u001b[0;34m]\u001b[0m\u001b[0;34m\u001b[0m\u001b[0m\n\u001b[0;32m----> 7\u001b[0;31m         \u001b[0mothers\u001b[0m\u001b[0;34m=\u001b[0m \u001b[0mall_casings\u001b[0m\u001b[0;34m(\u001b[0m\u001b[0minput_string\u001b[0m\u001b[0;34m[\u001b[0m\u001b[0;36m1\u001b[0m\u001b[0;34m:\u001b[0m\u001b[0;34m]\u001b[0m\u001b[0;34m)\u001b[0m\u001b[0;34m\u001b[0m\u001b[0m\n\u001b[0m\u001b[1;32m      8\u001b[0m         \u001b[0;32mfor\u001b[0m \u001b[0msub_casing\u001b[0m \u001b[0;32min\u001b[0m \u001b[0mothers\u001b[0m\u001b[0;34m:\u001b[0m\u001b[0;34m\u001b[0m\u001b[0m\n\u001b[1;32m      9\u001b[0m             \u001b[0;32mreturn\u001b[0m \u001b[0;34m[\u001b[0m\u001b[0mfirst\u001b[0m\u001b[0;34m.\u001b[0m\u001b[0mlower\u001b[0m\u001b[0;34m(\u001b[0m\u001b[0;34m)\u001b[0m \u001b[0;34m+\u001b[0m \u001b[0msub_casing\u001b[0m\u001b[0;34m,\u001b[0m \u001b[0mfirst\u001b[0m\u001b[0;34m.\u001b[0m\u001b[0mupper\u001b[0m\u001b[0;34m(\u001b[0m\u001b[0;34m)\u001b[0m \u001b[0;34m+\u001b[0m \u001b[0msub_casing\u001b[0m\u001b[0;34m]\u001b[0m\u001b[0;34m\u001b[0m\u001b[0m\n",
        "\u001b[0;32m<ipython-input-84-3e3fa4d7dd47>\u001b[0m in \u001b[0;36mall_casings\u001b[0;34m(input_string)\u001b[0m\n\u001b[1;32m      6\u001b[0m         \u001b[0mfirst\u001b[0m \u001b[0;34m=\u001b[0m \u001b[0minput_string\u001b[0m\u001b[0;34m[\u001b[0m\u001b[0;34m:\u001b[0m\u001b[0;36m1\u001b[0m\u001b[0;34m]\u001b[0m\u001b[0;34m\u001b[0m\u001b[0m\n\u001b[1;32m      7\u001b[0m         \u001b[0mothers\u001b[0m\u001b[0;34m=\u001b[0m \u001b[0mall_casings\u001b[0m\u001b[0;34m(\u001b[0m\u001b[0minput_string\u001b[0m\u001b[0;34m[\u001b[0m\u001b[0;36m1\u001b[0m\u001b[0;34m:\u001b[0m\u001b[0;34m]\u001b[0m\u001b[0;34m)\u001b[0m\u001b[0;34m\u001b[0m\u001b[0m\n\u001b[0;32m----> 8\u001b[0;31m         \u001b[0;32mfor\u001b[0m \u001b[0msub_casing\u001b[0m \u001b[0;32min\u001b[0m \u001b[0mothers\u001b[0m\u001b[0;34m:\u001b[0m\u001b[0;34m\u001b[0m\u001b[0m\n\u001b[0m\u001b[1;32m      9\u001b[0m             \u001b[0;32mreturn\u001b[0m \u001b[0;34m[\u001b[0m\u001b[0mfirst\u001b[0m\u001b[0;34m.\u001b[0m\u001b[0mlower\u001b[0m\u001b[0;34m(\u001b[0m\u001b[0;34m)\u001b[0m \u001b[0;34m+\u001b[0m \u001b[0msub_casing\u001b[0m\u001b[0;34m,\u001b[0m \u001b[0mfirst\u001b[0m\u001b[0;34m.\u001b[0m\u001b[0mupper\u001b[0m\u001b[0;34m(\u001b[0m\u001b[0;34m)\u001b[0m \u001b[0;34m+\u001b[0m \u001b[0msub_casing\u001b[0m\u001b[0;34m]\u001b[0m\u001b[0;34m\u001b[0m\u001b[0m\n",
        "\u001b[0;31mTypeError\u001b[0m: 'NoneType' object is not iterable"
       ]
      }
     ],
     "prompt_number": 85
    },
    {
     "cell_type": "code",
     "collapsed": false,
     "input": [
      "def cases(aStr):\n",
      "    out=[]\n",
      "    if len(aStr)==1:\n",
      "        return [aStr.upper(),aStr.lower()]\n",
      "    else:\n",
      "        first=aStr[0]\n",
      "        rest=aStr[1:]\n",
      "        for case in cases(rest):\n",
      "            out.append(first.upper() + case)\n",
      "            out.append(first.lower() + case)\n",
      "    return out"
     ],
     "language": "python",
     "metadata": {},
     "outputs": [],
     "prompt_number": 93
    },
    {
     "cell_type": "code",
     "collapsed": false,
     "input": [
      "myStr= \"helloworld\"\n",
      "print len(cases(myStr)),2**len(myStr)"
     ],
     "language": "python",
     "metadata": {},
     "outputs": [
      {
       "output_type": "stream",
       "stream": "stdout",
       "text": [
        "1024 1024\n"
       ]
      }
     ],
     "prompt_number": 96
    },
    {
     "cell_type": "code",
     "collapsed": false,
     "input": [
      "matrix = [[0,1,2,1],[2,1,6,9],[5,4,2,1]]\n",
      "\n",
      "def print_matrix (matrix):\n",
      "    for i in matrix:\n",
      "        print i\n",
      "\n",
      "\n",
      "def rotate_matrix (matrix):\n",
      "    nrow= len(matrix)\n",
      "    ncol= len(matrix[0])\n",
      "    new_matrix=[]\n",
      "    for i in range(ncol):\n",
      "        new_matrix.append([0]*nrow)\n",
      "        \n",
      "    for i in range(nrow):\n",
      "        for j in range(ncol):\n",
      "            new_matrix[j][i]=matrix[i][j]\n",
      "    return new_matrix\n"
     ],
     "language": "python",
     "metadata": {},
     "outputs": [],
     "prompt_number": 117
    },
    {
     "cell_type": "code",
     "collapsed": false,
     "input": [
      "matrix = [[0,1,2,1],[2,1,6,9],[5,4,2,1]]\n",
      "print_matrix(matrix)\n",
      "\n",
      "new_matrix= rotate_matrix(matrix)\n",
      "print \"_________________\"\n",
      "print_matrix(new_matrix)"
     ],
     "language": "python",
     "metadata": {},
     "outputs": [
      {
       "output_type": "stream",
       "stream": "stdout",
       "text": [
        "[0, 1, 2, 1]\n",
        "[2, 1, 6, 9]\n",
        "[5, 4, 2, 1]\n",
        "_________________\n",
        "[0, 2, 5]\n",
        "[1, 1, 4]\n",
        "[2, 6, 2]\n",
        "[1, 9, 1]\n"
       ]
      }
     ],
     "prompt_number": 118
    },
    {
     "cell_type": "code",
     "collapsed": false,
     "input": [],
     "language": "python",
     "metadata": {},
     "outputs": []
    }
   ],
   "metadata": {}
  }
 ]
}